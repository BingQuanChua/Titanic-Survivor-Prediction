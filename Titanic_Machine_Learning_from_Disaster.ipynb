{
  "nbformat": 4,
  "nbformat_minor": 0,
  "metadata": {
    "kernelspec": {
      "display_name": "Python 3",
      "language": "python",
      "name": "python3"
    },
    "language_info": {
      "codemirror_mode": {
        "name": "ipython",
        "version": 3
      },
      "file_extension": ".py",
      "mimetype": "text/x-python",
      "name": "python",
      "nbconvert_exporter": "python",
      "pygments_lexer": "ipython3",
      "version": "3.8.5"
    },
    "colab": {
      "name": "Titanic - Machine Learning from Disaster.ipynb",
      "provenance": [],
      "collapsed_sections": [],
      "toc_visible": true
    }
  },
  "cells": [
    {
      "cell_type": "markdown",
      "metadata": {
        "id": "iphFlfPxwtSS"
      },
      "source": [
        "# Titanic - Machine Learning from Disaster\n",
        "\n",
        "Baby steps on Kaggle Machine Learning Competitions."
      ]
    },
    {
      "cell_type": "code",
      "metadata": {
        "id": "OfW9ADkPn07_"
      },
      "source": [
        "path = ''"
      ],
      "execution_count": 1,
      "outputs": []
    },
    {
      "cell_type": "markdown",
      "metadata": {
        "id": "7UA0iHWUwtSX"
      },
      "source": [
        "## 1. Importing libraries"
      ]
    },
    {
      "cell_type": "code",
      "metadata": {
        "id": "H3RUCo83wtSY"
      },
      "source": [
        "import numpy as np\n",
        "import pandas as pd\n",
        "import matplotlib.pyplot as plt\n",
        "import seaborn as sns\n",
        "import datetime\n",
        "\n",
        "from sklearn.preprocessing import MinMaxScaler \n",
        "from sklearn.model_selection import train_test_split\n",
        "from sklearn.metrics import accuracy_score\n",
        "from sklearn.model_selection import cross_validate\n",
        "\n",
        "from sklearn.ensemble import RandomForestClassifier\n",
        "from sklearn.neighbors import KNeighborsClassifier\n",
        "from sklearn.neural_network import MLPClassifier\n",
        "from sklearn.tree import DecisionTreeClassifier\n",
        "from sklearn.svm import SVC\n",
        "from sklearn.linear_model import LogisticRegression\n",
        "from xgboost import XGBClassifier"
      ],
      "execution_count": 2,
      "outputs": []
    },
    {
      "cell_type": "markdown",
      "metadata": {
        "id": "mY3KCqPNwtSY"
      },
      "source": [
        "## 2. Loading the Dataset"
      ]
    },
    {
      "cell_type": "markdown",
      "metadata": {
        "id": "tzK_aZyUwtSY"
      },
      "source": [
        "### 2.1 Reading in train.csv"
      ]
    },
    {
      "cell_type": "code",
      "metadata": {
        "id": "MY80702_wtSZ",
        "colab": {
          "base_uri": "https://localhost:8080/",
          "height": 419
        },
        "outputId": "11cc8a91-01e8-4b5e-f4da-e66711967173"
      },
      "source": [
        "raw_train_data = pd.read_csv(path + 'train.csv')\n",
        "raw_train_data"
      ],
      "execution_count": 3,
      "outputs": [
        {
          "output_type": "execute_result",
          "data": {
            "text/html": [
              "<div>\n",
              "<style scoped>\n",
              "    .dataframe tbody tr th:only-of-type {\n",
              "        vertical-align: middle;\n",
              "    }\n",
              "\n",
              "    .dataframe tbody tr th {\n",
              "        vertical-align: top;\n",
              "    }\n",
              "\n",
              "    .dataframe thead th {\n",
              "        text-align: right;\n",
              "    }\n",
              "</style>\n",
              "<table border=\"1\" class=\"dataframe\">\n",
              "  <thead>\n",
              "    <tr style=\"text-align: right;\">\n",
              "      <th></th>\n",
              "      <th>PassengerId</th>\n",
              "      <th>Survived</th>\n",
              "      <th>Pclass</th>\n",
              "      <th>Name</th>\n",
              "      <th>Sex</th>\n",
              "      <th>Age</th>\n",
              "      <th>SibSp</th>\n",
              "      <th>Parch</th>\n",
              "      <th>Ticket</th>\n",
              "      <th>Fare</th>\n",
              "      <th>Cabin</th>\n",
              "      <th>Embarked</th>\n",
              "    </tr>\n",
              "  </thead>\n",
              "  <tbody>\n",
              "    <tr>\n",
              "      <th>0</th>\n",
              "      <td>1</td>\n",
              "      <td>0</td>\n",
              "      <td>3</td>\n",
              "      <td>Braund, Mr. Owen Harris</td>\n",
              "      <td>male</td>\n",
              "      <td>22.0</td>\n",
              "      <td>1</td>\n",
              "      <td>0</td>\n",
              "      <td>A/5 21171</td>\n",
              "      <td>7.2500</td>\n",
              "      <td>NaN</td>\n",
              "      <td>S</td>\n",
              "    </tr>\n",
              "    <tr>\n",
              "      <th>1</th>\n",
              "      <td>2</td>\n",
              "      <td>1</td>\n",
              "      <td>1</td>\n",
              "      <td>Cumings, Mrs. John Bradley (Florence Briggs Th...</td>\n",
              "      <td>female</td>\n",
              "      <td>38.0</td>\n",
              "      <td>1</td>\n",
              "      <td>0</td>\n",
              "      <td>PC 17599</td>\n",
              "      <td>71.2833</td>\n",
              "      <td>C85</td>\n",
              "      <td>C</td>\n",
              "    </tr>\n",
              "    <tr>\n",
              "      <th>2</th>\n",
              "      <td>3</td>\n",
              "      <td>1</td>\n",
              "      <td>3</td>\n",
              "      <td>Heikkinen, Miss. Laina</td>\n",
              "      <td>female</td>\n",
              "      <td>26.0</td>\n",
              "      <td>0</td>\n",
              "      <td>0</td>\n",
              "      <td>STON/O2. 3101282</td>\n",
              "      <td>7.9250</td>\n",
              "      <td>NaN</td>\n",
              "      <td>S</td>\n",
              "    </tr>\n",
              "    <tr>\n",
              "      <th>3</th>\n",
              "      <td>4</td>\n",
              "      <td>1</td>\n",
              "      <td>1</td>\n",
              "      <td>Futrelle, Mrs. Jacques Heath (Lily May Peel)</td>\n",
              "      <td>female</td>\n",
              "      <td>35.0</td>\n",
              "      <td>1</td>\n",
              "      <td>0</td>\n",
              "      <td>113803</td>\n",
              "      <td>53.1000</td>\n",
              "      <td>C123</td>\n",
              "      <td>S</td>\n",
              "    </tr>\n",
              "    <tr>\n",
              "      <th>4</th>\n",
              "      <td>5</td>\n",
              "      <td>0</td>\n",
              "      <td>3</td>\n",
              "      <td>Allen, Mr. William Henry</td>\n",
              "      <td>male</td>\n",
              "      <td>35.0</td>\n",
              "      <td>0</td>\n",
              "      <td>0</td>\n",
              "      <td>373450</td>\n",
              "      <td>8.0500</td>\n",
              "      <td>NaN</td>\n",
              "      <td>S</td>\n",
              "    </tr>\n",
              "    <tr>\n",
              "      <th>...</th>\n",
              "      <td>...</td>\n",
              "      <td>...</td>\n",
              "      <td>...</td>\n",
              "      <td>...</td>\n",
              "      <td>...</td>\n",
              "      <td>...</td>\n",
              "      <td>...</td>\n",
              "      <td>...</td>\n",
              "      <td>...</td>\n",
              "      <td>...</td>\n",
              "      <td>...</td>\n",
              "      <td>...</td>\n",
              "    </tr>\n",
              "    <tr>\n",
              "      <th>886</th>\n",
              "      <td>887</td>\n",
              "      <td>0</td>\n",
              "      <td>2</td>\n",
              "      <td>Montvila, Rev. Juozas</td>\n",
              "      <td>male</td>\n",
              "      <td>27.0</td>\n",
              "      <td>0</td>\n",
              "      <td>0</td>\n",
              "      <td>211536</td>\n",
              "      <td>13.0000</td>\n",
              "      <td>NaN</td>\n",
              "      <td>S</td>\n",
              "    </tr>\n",
              "    <tr>\n",
              "      <th>887</th>\n",
              "      <td>888</td>\n",
              "      <td>1</td>\n",
              "      <td>1</td>\n",
              "      <td>Graham, Miss. Margaret Edith</td>\n",
              "      <td>female</td>\n",
              "      <td>19.0</td>\n",
              "      <td>0</td>\n",
              "      <td>0</td>\n",
              "      <td>112053</td>\n",
              "      <td>30.0000</td>\n",
              "      <td>B42</td>\n",
              "      <td>S</td>\n",
              "    </tr>\n",
              "    <tr>\n",
              "      <th>888</th>\n",
              "      <td>889</td>\n",
              "      <td>0</td>\n",
              "      <td>3</td>\n",
              "      <td>Johnston, Miss. Catherine Helen \"Carrie\"</td>\n",
              "      <td>female</td>\n",
              "      <td>NaN</td>\n",
              "      <td>1</td>\n",
              "      <td>2</td>\n",
              "      <td>W./C. 6607</td>\n",
              "      <td>23.4500</td>\n",
              "      <td>NaN</td>\n",
              "      <td>S</td>\n",
              "    </tr>\n",
              "    <tr>\n",
              "      <th>889</th>\n",
              "      <td>890</td>\n",
              "      <td>1</td>\n",
              "      <td>1</td>\n",
              "      <td>Behr, Mr. Karl Howell</td>\n",
              "      <td>male</td>\n",
              "      <td>26.0</td>\n",
              "      <td>0</td>\n",
              "      <td>0</td>\n",
              "      <td>111369</td>\n",
              "      <td>30.0000</td>\n",
              "      <td>C148</td>\n",
              "      <td>C</td>\n",
              "    </tr>\n",
              "    <tr>\n",
              "      <th>890</th>\n",
              "      <td>891</td>\n",
              "      <td>0</td>\n",
              "      <td>3</td>\n",
              "      <td>Dooley, Mr. Patrick</td>\n",
              "      <td>male</td>\n",
              "      <td>32.0</td>\n",
              "      <td>0</td>\n",
              "      <td>0</td>\n",
              "      <td>370376</td>\n",
              "      <td>7.7500</td>\n",
              "      <td>NaN</td>\n",
              "      <td>Q</td>\n",
              "    </tr>\n",
              "  </tbody>\n",
              "</table>\n",
              "<p>891 rows × 12 columns</p>\n",
              "</div>"
            ],
            "text/plain": [
              "     PassengerId  Survived  Pclass  ...     Fare Cabin  Embarked\n",
              "0              1         0       3  ...   7.2500   NaN         S\n",
              "1              2         1       1  ...  71.2833   C85         C\n",
              "2              3         1       3  ...   7.9250   NaN         S\n",
              "3              4         1       1  ...  53.1000  C123         S\n",
              "4              5         0       3  ...   8.0500   NaN         S\n",
              "..           ...       ...     ...  ...      ...   ...       ...\n",
              "886          887         0       2  ...  13.0000   NaN         S\n",
              "887          888         1       1  ...  30.0000   B42         S\n",
              "888          889         0       3  ...  23.4500   NaN         S\n",
              "889          890         1       1  ...  30.0000  C148         C\n",
              "890          891         0       3  ...   7.7500   NaN         Q\n",
              "\n",
              "[891 rows x 12 columns]"
            ]
          },
          "metadata": {
            "tags": []
          },
          "execution_count": 3
        }
      ]
    },
    {
      "cell_type": "markdown",
      "metadata": {
        "id": "lflxFCs7wtSa"
      },
      "source": [
        "Simple data dictionary:\n",
        "\n",
        "|  Column      | Description | Remarks |\n",
        "| :---         | :--- | :--- |\n",
        "| PassengerId  | ID of the passenger | |\n",
        "| Survived     | Survived or not | 0 = No, 1 = Yes |\n",
        "| Pclass       | Class of the ticket | 1 = 1st, 2 = 2nd, 3 = 3rd |\n",
        "| Name         | Name of ticket holder | |\n",
        "| Sex          | Gender of ticket holder | |\n",
        "| Age          | Age of ticket holder | |\n",
        "| Sibsp        | Number of siblings or spouses on board | |\n",
        "| Parch        | Number of parents or children on board | |\n",
        "| Ticket       | Ticket number | |\n",
        "| Fare         | Passenger fare | |\n",
        "| Cabin        | Cabin number | |\n",
        "| Embarked     | Port of Embarkation | C = Cherbourg, Q = Queenstown, S = Southampton |\n"
      ]
    },
    {
      "cell_type": "code",
      "metadata": {
        "id": "n18-5ulOwtSa",
        "colab": {
          "base_uri": "https://localhost:8080/",
          "height": 297
        },
        "outputId": "aaac8970-9ed5-40e6-ce10-029da7e3a25e"
      },
      "source": [
        "raw_train_data.describe()"
      ],
      "execution_count": 4,
      "outputs": [
        {
          "output_type": "execute_result",
          "data": {
            "text/html": [
              "<div>\n",
              "<style scoped>\n",
              "    .dataframe tbody tr th:only-of-type {\n",
              "        vertical-align: middle;\n",
              "    }\n",
              "\n",
              "    .dataframe tbody tr th {\n",
              "        vertical-align: top;\n",
              "    }\n",
              "\n",
              "    .dataframe thead th {\n",
              "        text-align: right;\n",
              "    }\n",
              "</style>\n",
              "<table border=\"1\" class=\"dataframe\">\n",
              "  <thead>\n",
              "    <tr style=\"text-align: right;\">\n",
              "      <th></th>\n",
              "      <th>PassengerId</th>\n",
              "      <th>Survived</th>\n",
              "      <th>Pclass</th>\n",
              "      <th>Age</th>\n",
              "      <th>SibSp</th>\n",
              "      <th>Parch</th>\n",
              "      <th>Fare</th>\n",
              "    </tr>\n",
              "  </thead>\n",
              "  <tbody>\n",
              "    <tr>\n",
              "      <th>count</th>\n",
              "      <td>891.000000</td>\n",
              "      <td>891.000000</td>\n",
              "      <td>891.000000</td>\n",
              "      <td>714.000000</td>\n",
              "      <td>891.000000</td>\n",
              "      <td>891.000000</td>\n",
              "      <td>891.000000</td>\n",
              "    </tr>\n",
              "    <tr>\n",
              "      <th>mean</th>\n",
              "      <td>446.000000</td>\n",
              "      <td>0.383838</td>\n",
              "      <td>2.308642</td>\n",
              "      <td>29.699118</td>\n",
              "      <td>0.523008</td>\n",
              "      <td>0.381594</td>\n",
              "      <td>32.204208</td>\n",
              "    </tr>\n",
              "    <tr>\n",
              "      <th>std</th>\n",
              "      <td>257.353842</td>\n",
              "      <td>0.486592</td>\n",
              "      <td>0.836071</td>\n",
              "      <td>14.526497</td>\n",
              "      <td>1.102743</td>\n",
              "      <td>0.806057</td>\n",
              "      <td>49.693429</td>\n",
              "    </tr>\n",
              "    <tr>\n",
              "      <th>min</th>\n",
              "      <td>1.000000</td>\n",
              "      <td>0.000000</td>\n",
              "      <td>1.000000</td>\n",
              "      <td>0.420000</td>\n",
              "      <td>0.000000</td>\n",
              "      <td>0.000000</td>\n",
              "      <td>0.000000</td>\n",
              "    </tr>\n",
              "    <tr>\n",
              "      <th>25%</th>\n",
              "      <td>223.500000</td>\n",
              "      <td>0.000000</td>\n",
              "      <td>2.000000</td>\n",
              "      <td>20.125000</td>\n",
              "      <td>0.000000</td>\n",
              "      <td>0.000000</td>\n",
              "      <td>7.910400</td>\n",
              "    </tr>\n",
              "    <tr>\n",
              "      <th>50%</th>\n",
              "      <td>446.000000</td>\n",
              "      <td>0.000000</td>\n",
              "      <td>3.000000</td>\n",
              "      <td>28.000000</td>\n",
              "      <td>0.000000</td>\n",
              "      <td>0.000000</td>\n",
              "      <td>14.454200</td>\n",
              "    </tr>\n",
              "    <tr>\n",
              "      <th>75%</th>\n",
              "      <td>668.500000</td>\n",
              "      <td>1.000000</td>\n",
              "      <td>3.000000</td>\n",
              "      <td>38.000000</td>\n",
              "      <td>1.000000</td>\n",
              "      <td>0.000000</td>\n",
              "      <td>31.000000</td>\n",
              "    </tr>\n",
              "    <tr>\n",
              "      <th>max</th>\n",
              "      <td>891.000000</td>\n",
              "      <td>1.000000</td>\n",
              "      <td>3.000000</td>\n",
              "      <td>80.000000</td>\n",
              "      <td>8.000000</td>\n",
              "      <td>6.000000</td>\n",
              "      <td>512.329200</td>\n",
              "    </tr>\n",
              "  </tbody>\n",
              "</table>\n",
              "</div>"
            ],
            "text/plain": [
              "       PassengerId    Survived      Pclass  ...       SibSp       Parch        Fare\n",
              "count   891.000000  891.000000  891.000000  ...  891.000000  891.000000  891.000000\n",
              "mean    446.000000    0.383838    2.308642  ...    0.523008    0.381594   32.204208\n",
              "std     257.353842    0.486592    0.836071  ...    1.102743    0.806057   49.693429\n",
              "min       1.000000    0.000000    1.000000  ...    0.000000    0.000000    0.000000\n",
              "25%     223.500000    0.000000    2.000000  ...    0.000000    0.000000    7.910400\n",
              "50%     446.000000    0.000000    3.000000  ...    0.000000    0.000000   14.454200\n",
              "75%     668.500000    1.000000    3.000000  ...    1.000000    0.000000   31.000000\n",
              "max     891.000000    1.000000    3.000000  ...    8.000000    6.000000  512.329200\n",
              "\n",
              "[8 rows x 7 columns]"
            ]
          },
          "metadata": {
            "tags": []
          },
          "execution_count": 4
        }
      ]
    },
    {
      "cell_type": "markdown",
      "metadata": {
        "id": "d_sP6-k3wtSa"
      },
      "source": [
        "### 2.2 Reading in test.csv\n",
        "\n",
        "Unlike train.csv, there is no `Survived` column. It will be predicted at the end of this notebook."
      ]
    },
    {
      "cell_type": "code",
      "metadata": {
        "id": "RQCFKhH9wtSa",
        "colab": {
          "base_uri": "https://localhost:8080/"
        },
        "outputId": "1b339cb9-cd2b-42e9-c886-c9bf2c47f494"
      },
      "source": [
        "raw_test_data = pd.read_csv(path + 'test.csv')\n",
        "raw_test_data.shape"
      ],
      "execution_count": 5,
      "outputs": [
        {
          "output_type": "execute_result",
          "data": {
            "text/plain": [
              "(418, 11)"
            ]
          },
          "metadata": {
            "tags": []
          },
          "execution_count": 5
        }
      ]
    },
    {
      "cell_type": "markdown",
      "metadata": {
        "id": "vYsOcqTCwtSb"
      },
      "source": [
        "## 3. Data Cleaning\n"
      ]
    },
    {
      "cell_type": "markdown",
      "metadata": {
        "id": "bXUmLeFCxHu7"
      },
      "source": [
        "### 3.1 Cleaning train.csv\r\n",
        "Focus on cleaning the data from train.csv first. Let's not touch the raw data but instead make a deep copy of it and clean it."
      ]
    },
    {
      "cell_type": "code",
      "metadata": {
        "id": "KZKlg0jNwtSb",
        "colab": {
          "base_uri": "https://localhost:8080/",
          "height": 419
        },
        "outputId": "95166376-7770-40a2-bdb6-270d776ba9ec"
      },
      "source": [
        "### get a copy of the raw data\n",
        "train_data = raw_train_data.copy()\n",
        "train_data"
      ],
      "execution_count": 6,
      "outputs": [
        {
          "output_type": "execute_result",
          "data": {
            "text/html": [
              "<div>\n",
              "<style scoped>\n",
              "    .dataframe tbody tr th:only-of-type {\n",
              "        vertical-align: middle;\n",
              "    }\n",
              "\n",
              "    .dataframe tbody tr th {\n",
              "        vertical-align: top;\n",
              "    }\n",
              "\n",
              "    .dataframe thead th {\n",
              "        text-align: right;\n",
              "    }\n",
              "</style>\n",
              "<table border=\"1\" class=\"dataframe\">\n",
              "  <thead>\n",
              "    <tr style=\"text-align: right;\">\n",
              "      <th></th>\n",
              "      <th>PassengerId</th>\n",
              "      <th>Survived</th>\n",
              "      <th>Pclass</th>\n",
              "      <th>Name</th>\n",
              "      <th>Sex</th>\n",
              "      <th>Age</th>\n",
              "      <th>SibSp</th>\n",
              "      <th>Parch</th>\n",
              "      <th>Ticket</th>\n",
              "      <th>Fare</th>\n",
              "      <th>Cabin</th>\n",
              "      <th>Embarked</th>\n",
              "    </tr>\n",
              "  </thead>\n",
              "  <tbody>\n",
              "    <tr>\n",
              "      <th>0</th>\n",
              "      <td>1</td>\n",
              "      <td>0</td>\n",
              "      <td>3</td>\n",
              "      <td>Braund, Mr. Owen Harris</td>\n",
              "      <td>male</td>\n",
              "      <td>22.0</td>\n",
              "      <td>1</td>\n",
              "      <td>0</td>\n",
              "      <td>A/5 21171</td>\n",
              "      <td>7.2500</td>\n",
              "      <td>NaN</td>\n",
              "      <td>S</td>\n",
              "    </tr>\n",
              "    <tr>\n",
              "      <th>1</th>\n",
              "      <td>2</td>\n",
              "      <td>1</td>\n",
              "      <td>1</td>\n",
              "      <td>Cumings, Mrs. John Bradley (Florence Briggs Th...</td>\n",
              "      <td>female</td>\n",
              "      <td>38.0</td>\n",
              "      <td>1</td>\n",
              "      <td>0</td>\n",
              "      <td>PC 17599</td>\n",
              "      <td>71.2833</td>\n",
              "      <td>C85</td>\n",
              "      <td>C</td>\n",
              "    </tr>\n",
              "    <tr>\n",
              "      <th>2</th>\n",
              "      <td>3</td>\n",
              "      <td>1</td>\n",
              "      <td>3</td>\n",
              "      <td>Heikkinen, Miss. Laina</td>\n",
              "      <td>female</td>\n",
              "      <td>26.0</td>\n",
              "      <td>0</td>\n",
              "      <td>0</td>\n",
              "      <td>STON/O2. 3101282</td>\n",
              "      <td>7.9250</td>\n",
              "      <td>NaN</td>\n",
              "      <td>S</td>\n",
              "    </tr>\n",
              "    <tr>\n",
              "      <th>3</th>\n",
              "      <td>4</td>\n",
              "      <td>1</td>\n",
              "      <td>1</td>\n",
              "      <td>Futrelle, Mrs. Jacques Heath (Lily May Peel)</td>\n",
              "      <td>female</td>\n",
              "      <td>35.0</td>\n",
              "      <td>1</td>\n",
              "      <td>0</td>\n",
              "      <td>113803</td>\n",
              "      <td>53.1000</td>\n",
              "      <td>C123</td>\n",
              "      <td>S</td>\n",
              "    </tr>\n",
              "    <tr>\n",
              "      <th>4</th>\n",
              "      <td>5</td>\n",
              "      <td>0</td>\n",
              "      <td>3</td>\n",
              "      <td>Allen, Mr. William Henry</td>\n",
              "      <td>male</td>\n",
              "      <td>35.0</td>\n",
              "      <td>0</td>\n",
              "      <td>0</td>\n",
              "      <td>373450</td>\n",
              "      <td>8.0500</td>\n",
              "      <td>NaN</td>\n",
              "      <td>S</td>\n",
              "    </tr>\n",
              "    <tr>\n",
              "      <th>...</th>\n",
              "      <td>...</td>\n",
              "      <td>...</td>\n",
              "      <td>...</td>\n",
              "      <td>...</td>\n",
              "      <td>...</td>\n",
              "      <td>...</td>\n",
              "      <td>...</td>\n",
              "      <td>...</td>\n",
              "      <td>...</td>\n",
              "      <td>...</td>\n",
              "      <td>...</td>\n",
              "      <td>...</td>\n",
              "    </tr>\n",
              "    <tr>\n",
              "      <th>886</th>\n",
              "      <td>887</td>\n",
              "      <td>0</td>\n",
              "      <td>2</td>\n",
              "      <td>Montvila, Rev. Juozas</td>\n",
              "      <td>male</td>\n",
              "      <td>27.0</td>\n",
              "      <td>0</td>\n",
              "      <td>0</td>\n",
              "      <td>211536</td>\n",
              "      <td>13.0000</td>\n",
              "      <td>NaN</td>\n",
              "      <td>S</td>\n",
              "    </tr>\n",
              "    <tr>\n",
              "      <th>887</th>\n",
              "      <td>888</td>\n",
              "      <td>1</td>\n",
              "      <td>1</td>\n",
              "      <td>Graham, Miss. Margaret Edith</td>\n",
              "      <td>female</td>\n",
              "      <td>19.0</td>\n",
              "      <td>0</td>\n",
              "      <td>0</td>\n",
              "      <td>112053</td>\n",
              "      <td>30.0000</td>\n",
              "      <td>B42</td>\n",
              "      <td>S</td>\n",
              "    </tr>\n",
              "    <tr>\n",
              "      <th>888</th>\n",
              "      <td>889</td>\n",
              "      <td>0</td>\n",
              "      <td>3</td>\n",
              "      <td>Johnston, Miss. Catherine Helen \"Carrie\"</td>\n",
              "      <td>female</td>\n",
              "      <td>NaN</td>\n",
              "      <td>1</td>\n",
              "      <td>2</td>\n",
              "      <td>W./C. 6607</td>\n",
              "      <td>23.4500</td>\n",
              "      <td>NaN</td>\n",
              "      <td>S</td>\n",
              "    </tr>\n",
              "    <tr>\n",
              "      <th>889</th>\n",
              "      <td>890</td>\n",
              "      <td>1</td>\n",
              "      <td>1</td>\n",
              "      <td>Behr, Mr. Karl Howell</td>\n",
              "      <td>male</td>\n",
              "      <td>26.0</td>\n",
              "      <td>0</td>\n",
              "      <td>0</td>\n",
              "      <td>111369</td>\n",
              "      <td>30.0000</td>\n",
              "      <td>C148</td>\n",
              "      <td>C</td>\n",
              "    </tr>\n",
              "    <tr>\n",
              "      <th>890</th>\n",
              "      <td>891</td>\n",
              "      <td>0</td>\n",
              "      <td>3</td>\n",
              "      <td>Dooley, Mr. Patrick</td>\n",
              "      <td>male</td>\n",
              "      <td>32.0</td>\n",
              "      <td>0</td>\n",
              "      <td>0</td>\n",
              "      <td>370376</td>\n",
              "      <td>7.7500</td>\n",
              "      <td>NaN</td>\n",
              "      <td>Q</td>\n",
              "    </tr>\n",
              "  </tbody>\n",
              "</table>\n",
              "<p>891 rows × 12 columns</p>\n",
              "</div>"
            ],
            "text/plain": [
              "     PassengerId  Survived  Pclass  ...     Fare Cabin  Embarked\n",
              "0              1         0       3  ...   7.2500   NaN         S\n",
              "1              2         1       1  ...  71.2833   C85         C\n",
              "2              3         1       3  ...   7.9250   NaN         S\n",
              "3              4         1       1  ...  53.1000  C123         S\n",
              "4              5         0       3  ...   8.0500   NaN         S\n",
              "..           ...       ...     ...  ...      ...   ...       ...\n",
              "886          887         0       2  ...  13.0000   NaN         S\n",
              "887          888         1       1  ...  30.0000   B42         S\n",
              "888          889         0       3  ...  23.4500   NaN         S\n",
              "889          890         1       1  ...  30.0000  C148         C\n",
              "890          891         0       3  ...   7.7500   NaN         Q\n",
              "\n",
              "[891 rows x 12 columns]"
            ]
          },
          "metadata": {
            "tags": []
          },
          "execution_count": 6
        }
      ]
    },
    {
      "cell_type": "code",
      "metadata": {
        "colab": {
          "base_uri": "https://localhost:8080/"
        },
        "id": "K0D-s4Xk5FWp",
        "outputId": "d24419b1-fd2d-4c28-b9cc-94ca727652b5"
      },
      "source": [
        "train_data.info()"
      ],
      "execution_count": 7,
      "outputs": [
        {
          "output_type": "stream",
          "text": [
            "<class 'pandas.core.frame.DataFrame'>\n",
            "RangeIndex: 891 entries, 0 to 890\n",
            "Data columns (total 12 columns):\n",
            " #   Column       Non-Null Count  Dtype  \n",
            "---  ------       --------------  -----  \n",
            " 0   PassengerId  891 non-null    int64  \n",
            " 1   Survived     891 non-null    int64  \n",
            " 2   Pclass       891 non-null    int64  \n",
            " 3   Name         891 non-null    object \n",
            " 4   Sex          891 non-null    object \n",
            " 5   Age          714 non-null    float64\n",
            " 6   SibSp        891 non-null    int64  \n",
            " 7   Parch        891 non-null    int64  \n",
            " 8   Ticket       891 non-null    object \n",
            " 9   Fare         891 non-null    float64\n",
            " 10  Cabin        204 non-null    object \n",
            " 11  Embarked     889 non-null    object \n",
            "dtypes: float64(2), int64(5), object(5)\n",
            "memory usage: 83.7+ KB\n"
          ],
          "name": "stdout"
        }
      ]
    },
    {
      "cell_type": "markdown",
      "metadata": {
        "id": "yD_deNm1uCVj"
      },
      "source": [
        "#### 3.1.1 Identifying Missing Values \r\n",
        "\r\n",
        "First I check for any missing values present in the dataframe.\r\n"
      ]
    },
    {
      "cell_type": "code",
      "metadata": {
        "id": "qsrqyBcOwtSb",
        "colab": {
          "base_uri": "https://localhost:8080/"
        },
        "outputId": "967b7b37-7ca4-42eb-bdc6-fa6037a43f8c"
      },
      "source": [
        "### count null values in each column\n",
        "train_data.isna().sum() "
      ],
      "execution_count": 8,
      "outputs": [
        {
          "output_type": "execute_result",
          "data": {
            "text/plain": [
              "PassengerId      0\n",
              "Survived         0\n",
              "Pclass           0\n",
              "Name             0\n",
              "Sex              0\n",
              "Age            177\n",
              "SibSp            0\n",
              "Parch            0\n",
              "Ticket           0\n",
              "Fare             0\n",
              "Cabin          687\n",
              "Embarked         2\n",
              "dtype: int64"
            ]
          },
          "metadata": {
            "tags": []
          },
          "execution_count": 8
        }
      ]
    },
    {
      "cell_type": "markdown",
      "metadata": {
        "id": "uQ8sBMrlwtSb"
      },
      "source": [
        "`Age`, `Cabin` and `Embarked` contains null values.\n",
        "\n",
        "Since the percentage of missing value in `Embarked` and `Age` are considered small (~0.22% and ~19.87%), they will be filled it later. \n",
        "\n",
        "As for `Cabin`, it already has too many missing value (~77.1%), therefore it will be dropped. \n",
        "\n",
        "*Note: Most people consider 70% as the maximum threshold. "
      ]
    },
    {
      "cell_type": "markdown",
      "metadata": {
        "id": "lLdGxN07uvsu"
      },
      "source": [
        "#### 3.1.2 `Pclass`"
      ]
    },
    {
      "cell_type": "code",
      "metadata": {
        "colab": {
          "base_uri": "https://localhost:8080/",
          "height": 282
        },
        "id": "yXEwGx8yvbv-",
        "outputId": "be6cda2d-fd81-4bc1-cd1e-40d47aa9eac7"
      },
      "source": [
        "train_data['Pclass'].value_counts().sort_values().plot(kind='barh')"
      ],
      "execution_count": 9,
      "outputs": [
        {
          "output_type": "execute_result",
          "data": {
            "text/plain": [
              "<matplotlib.axes._subplots.AxesSubplot at 0x7f8b685b5550>"
            ]
          },
          "metadata": {
            "tags": []
          },
          "execution_count": 9
        },
        {
          "output_type": "display_data",
          "data": {
            "image/png": "[encoded data removed]",
            "text/plain": [
              "<Figure size 432x288 with 1 Axes>"
            ]
          },
          "metadata": {
            "tags": [],
            "needs_background": "light"
          }
        }
      ]
    },
    {
      "cell_type": "markdown",
      "metadata": {
        "id": "tV9TgAWH02Zq"
      },
      "source": [
        "Most of the passengers are third class passengers. Following up with first class passengers being the second most, and lastly the second class passengers, being the least.\r\n"
      ]
    },
    {
      "cell_type": "code",
      "metadata": {
        "colab": {
          "base_uri": "https://localhost:8080/"
        },
        "id": "6MiyMxzx0Onb",
        "outputId": "56bf00a1-e61f-4ab8-9993-65625182319b"
      },
      "source": [
        "first_class = train_data.loc[train_data.Pclass == 1][\"Survived\"]\r\n",
        "rate_1 = sum(first_class)/len(first_class)\r\n",
        "print(\"% of first class passenger who survived: \", rate_1)\r\n",
        "\r\n",
        "second_class = train_data.loc[train_data.Pclass == 2][\"Survived\"]\r\n",
        "rate_2 = sum(second_class)/len(second_class)\r\n",
        "print(\"% of second class passenger who survived:\", rate_2)\r\n",
        "\r\n",
        "third_class = train_data.loc[train_data.Pclass == 3][\"Survived\"]\r\n",
        "rate_3 = sum(third_class)/len(third_class)\r\n",
        "print(\"% of third class passenger who survived: \", rate_3)"
      ],
      "execution_count": 10,
      "outputs": [
        {
          "output_type": "stream",
          "text": [
            "% of first class passenger who survived:  0.6296296296296297\n",
            "% of second class passenger who survived: 0.47282608695652173\n",
            "% of third class passenger who survived:  0.24236252545824846\n"
          ],
          "name": "stdout"
        }
      ]
    },
    {
      "cell_type": "markdown",
      "metadata": {
        "id": "nY5SUoBd093n"
      },
      "source": [
        "Overall, first class passengers have a higher chance of surviving. Following up with second class passengers and lastly third class passengers."
      ]
    },
    {
      "cell_type": "markdown",
      "metadata": {
        "id": "CX0IxEJjwZJR"
      },
      "source": [
        "#### 3.1.3 `Name`\r\n",
        "\r\n",
        "Each passenger has a title in their name column. So extracting it out and binning them might be a good idea. Besides, we might be able to predict their age by using their title."
      ]
    },
    {
      "cell_type": "code",
      "metadata": {
        "id": "rV6reNAGwemS"
      },
      "source": [
        "### extracting the title of the passenger\r\n",
        "train_data['Title'] = train_data['Name'].str.extract(' ([A-Za-z]+)\\.', expand=False)"
      ],
      "execution_count": 11,
      "outputs": []
    },
    {
      "cell_type": "code",
      "metadata": {
        "colab": {
          "base_uri": "https://localhost:8080/"
        },
        "id": "s3jXGmc1weo0",
        "outputId": "7493841b-af7e-44c1-de8a-f0400ce63d73"
      },
      "source": [
        "train_data['Title'].value_counts()"
      ],
      "execution_count": 12,
      "outputs": [
        {
          "output_type": "execute_result",
          "data": {
            "text/plain": [
              "Mr          517\n",
              "Miss        182\n",
              "Mrs         125\n",
              "Master       40\n",
              "Dr            7\n",
              "Rev           6\n",
              "Major         2\n",
              "Mlle          2\n",
              "Col           2\n",
              "Ms            1\n",
              "Capt          1\n",
              "Sir           1\n",
              "Jonkheer      1\n",
              "Lady          1\n",
              "Countess      1\n",
              "Don           1\n",
              "Mme           1\n",
              "Name: Title, dtype: int64"
            ]
          },
          "metadata": {
            "tags": []
          },
          "execution_count": 12
        }
      ]
    },
    {
      "cell_type": "markdown",
      "metadata": {
        "id": "q706QAiixqQO"
      },
      "source": [
        "There are several types of title. I am going to bin them into 4 categories:\r\n",
        "- Mr: 0\r\n",
        "- Miss: 1\r\n",
        "- Mrs: 2\r\n",
        "- Others: 3"
      ]
    },
    {
      "cell_type": "code",
      "metadata": {
        "id": "AIkT1MEYyGaN"
      },
      "source": [
        "### mapping the titles\r\n",
        "title_mapping = {\"Mr\": 0, \"Miss\": 1, \"Mrs\": 2,\r\n",
        "                 \"Master\": 3, \"Dr\": 3, \"Rev\": 3, \"Mlle\": 3, \"Col\": 3, \"Major\": 3, \"Countess\": 3, \"Jonkheer\": 3,\r\n",
        "                 \"Ms\": 1, \"Sir\": 3, \"Capt\": 3, \"Don\": 3, \"Mme\": 3, \"Lady\": 3}\r\n",
        "train_data['Title'] = train_data['Title'].map(title_mapping)"
      ],
      "execution_count": 13,
      "outputs": []
    },
    {
      "cell_type": "code",
      "metadata": {
        "colab": {
          "base_uri": "https://localhost:8080/",
          "height": 204
        },
        "id": "GwK0SuMKza_-",
        "outputId": "22f10829-1618-4eff-ea92-ea562457ecb4"
      },
      "source": [
        "train_data[['Title']].head()"
      ],
      "execution_count": 14,
      "outputs": [
        {
          "output_type": "execute_result",
          "data": {
            "text/html": [
              "<div>\n",
              "<style scoped>\n",
              "    .dataframe tbody tr th:only-of-type {\n",
              "        vertical-align: middle;\n",
              "    }\n",
              "\n",
              "    .dataframe tbody tr th {\n",
              "        vertical-align: top;\n",
              "    }\n",
              "\n",
              "    .dataframe thead th {\n",
              "        text-align: right;\n",
              "    }\n",
              "</style>\n",
              "<table border=\"1\" class=\"dataframe\">\n",
              "  <thead>\n",
              "    <tr style=\"text-align: right;\">\n",
              "      <th></th>\n",
              "      <th>Title</th>\n",
              "    </tr>\n",
              "  </thead>\n",
              "  <tbody>\n",
              "    <tr>\n",
              "      <th>0</th>\n",
              "      <td>0</td>\n",
              "    </tr>\n",
              "    <tr>\n",
              "      <th>1</th>\n",
              "      <td>2</td>\n",
              "    </tr>\n",
              "    <tr>\n",
              "      <th>2</th>\n",
              "      <td>1</td>\n",
              "    </tr>\n",
              "    <tr>\n",
              "      <th>3</th>\n",
              "      <td>2</td>\n",
              "    </tr>\n",
              "    <tr>\n",
              "      <th>4</th>\n",
              "      <td>0</td>\n",
              "    </tr>\n",
              "  </tbody>\n",
              "</table>\n",
              "</div>"
            ],
            "text/plain": [
              "   Title\n",
              "0      0\n",
              "1      2\n",
              "2      1\n",
              "3      2\n",
              "4      0"
            ]
          },
          "metadata": {
            "tags": []
          },
          "execution_count": 14
        }
      ]
    },
    {
      "cell_type": "markdown",
      "metadata": {
        "id": "46BtAs0JzoWX"
      },
      "source": [
        "#### 3.1.4 `Sex`"
      ]
    },
    {
      "cell_type": "code",
      "metadata": {
        "colab": {
          "base_uri": "https://localhost:8080/"
        },
        "id": "wRbBPWARzumN",
        "outputId": "6d04319c-6c0e-426c-c85f-e4f2c7a8be1c"
      },
      "source": [
        "women = train_data.loc[train_data.Sex == 'female'][\"Survived\"]\r\n",
        "rate_women = sum(women)/len(women)\r\n",
        "print(\"% of women who survived:\", rate_women)\r\n",
        "\r\n",
        "men = train_data.loc[train_data.Sex == 'male'][\"Survived\"]\r\n",
        "rate_men = sum(men)/len(men)\r\n",
        "print(\"% of men who survived:\", rate_men)"
      ],
      "execution_count": 15,
      "outputs": [
        {
          "output_type": "stream",
          "text": [
            "% of women who survived: 0.7420382165605095\n",
            "% of men who survived: 0.18890814558058924\n"
          ],
          "name": "stdout"
        }
      ]
    },
    {
      "cell_type": "markdown",
      "metadata": {
        "id": "WnxevS5t0BpJ"
      },
      "source": [
        "Women has a higher chance of surviving."
      ]
    },
    {
      "cell_type": "code",
      "metadata": {
        "id": "OqlVfIdPzutC"
      },
      "source": [
        "### transforms the categocial data into numerical representation\r\n",
        "# Sex => female: 0, male: 1\r\n",
        "train_data['Sex'] = pd.Categorical(train_data['Sex'])\r\n",
        "train_data['Sex'] = train_data['Sex'].cat.codes"
      ],
      "execution_count": 16,
      "outputs": []
    },
    {
      "cell_type": "markdown",
      "metadata": {
        "id": "kt7xZ1Io1eof"
      },
      "source": [
        "#### 3.1.5 `Age`\r\n",
        "\r\n",
        "Now that we already have `Title`, we can use it to 'predict' the missing `Age`."
      ]
    },
    {
      "cell_type": "code",
      "metadata": {
        "id": "vZxhPjsYwtSb"
      },
      "source": [
        "### filling in the missing data with median age of each title\n",
        "train_data['Age'].fillna(train_data.groupby('Title')['Age'].transform('median'), inplace=True)"
      ],
      "execution_count": 17,
      "outputs": []
    },
    {
      "cell_type": "markdown",
      "metadata": {
        "id": "LMCmGJS3yEmj"
      },
      "source": [
        "*Can I do binning on `Age`?*"
      ]
    },
    {
      "cell_type": "code",
      "metadata": {
        "colab": {
          "base_uri": "https://localhost:8080/",
          "height": 296
        },
        "id": "R3S1qkZDq7-u",
        "outputId": "847f67b1-2ebe-4fc3-8e8b-51ad4f2fb9cf"
      },
      "source": [
        "sns.boxplot(x='Age', data=train_data)"
      ],
      "execution_count": 18,
      "outputs": [
        {
          "output_type": "execute_result",
          "data": {
            "text/plain": [
              "<matplotlib.axes._subplots.AxesSubplot at 0x7f8b68501290>"
            ]
          },
          "metadata": {
            "tags": []
          },
          "execution_count": 18
        },
        {
          "output_type": "display_data",
          "data": {
            "image/png": "[encoded data removed]",
            "text/plain": [
              "<Figure size 432x288 with 1 Axes>"
            ]
          },
          "metadata": {
            "tags": [],
            "needs_background": "light"
          }
        }
      ]
    },
    {
      "cell_type": "markdown",
      "metadata": {
        "id": "uYKIwfRo2t7E"
      },
      "source": [
        "#### 3.1.6 `SibSp` and `Parch`\r\n",
        "\r\n",
        "`SibSp`: number of siblings/spouse\r\n",
        "\r\n",
        "`Parch`: number of parents/children\r\n",
        "\r\n",
        "Both attributes are the number of family members, hence I try to sum them up together."
      ]
    },
    {
      "cell_type": "code",
      "metadata": {
        "id": "ixzM7xMEwtSc"
      },
      "source": [
        "### summing the number of siblings/spouse and the number of parents/children\n",
        "train_data['Family'] = train_data['SibSp'] + train_data['Parch']"
      ],
      "execution_count": 19,
      "outputs": []
    },
    {
      "cell_type": "code",
      "metadata": {
        "colab": {
          "base_uri": "https://localhost:8080/"
        },
        "id": "cv8-TwxL3OPI",
        "outputId": "97812e01-f39f-499b-bcc6-3554c044e91f"
      },
      "source": [
        "train_data['Family'].value_counts()"
      ],
      "execution_count": 20,
      "outputs": [
        {
          "output_type": "execute_result",
          "data": {
            "text/plain": [
              "0     537\n",
              "1     161\n",
              "2     102\n",
              "3      29\n",
              "5      22\n",
              "4      15\n",
              "6      12\n",
              "10      7\n",
              "7       6\n",
              "Name: Family, dtype: int64"
            ]
          },
          "metadata": {
            "tags": []
          },
          "execution_count": 20
        }
      ]
    },
    {
      "cell_type": "markdown",
      "metadata": {
        "id": "Sp8Soq_Z3jmR"
      },
      "source": [
        "#### 3.1.7 `Fare`\r\n"
      ]
    },
    {
      "cell_type": "code",
      "metadata": {
        "colab": {
          "base_uri": "https://localhost:8080/",
          "height": 296
        },
        "id": "0n2QC9lHrHwW",
        "outputId": "85bd8dcf-1b16-4621-a666-462d09d98b0e"
      },
      "source": [
        "sns.boxplot(x='Fare', data=train_data)"
      ],
      "execution_count": 21,
      "outputs": [
        {
          "output_type": "execute_result",
          "data": {
            "text/plain": [
              "<matplotlib.axes._subplots.AxesSubplot at 0x7f8b67547710>"
            ]
          },
          "metadata": {
            "tags": []
          },
          "execution_count": 21
        },
        {
          "output_type": "display_data",
          "data": {
            "image/png": "[encoded data removed]",
            "text/plain": [
              "<Figure size 432x288 with 1 Axes>"
            ]
          },
          "metadata": {
            "tags": [],
            "needs_background": "light"
          }
        }
      ]
    },
    {
      "cell_type": "markdown",
      "metadata": {
        "id": "VCKNNRCKQYj6"
      },
      "source": [
        "`Fare` will need to be normalized."
      ]
    },
    {
      "cell_type": "markdown",
      "metadata": {
        "id": "aA6FFW_Q3qq1"
      },
      "source": [
        "#### 3.1.8 `Embarked`"
      ]
    },
    {
      "cell_type": "code",
      "metadata": {
        "colab": {
          "base_uri": "https://localhost:8080/"
        },
        "id": "RksVd_A-35lC",
        "outputId": "bc4a7fd9-8e95-4711-930f-fd954c6a4f72"
      },
      "source": [
        "train_data['Embarked'].value_counts()"
      ],
      "execution_count": 22,
      "outputs": [
        {
          "output_type": "execute_result",
          "data": {
            "text/plain": [
              "S    644\n",
              "C    168\n",
              "Q     77\n",
              "Name: Embarked, dtype: int64"
            ]
          },
          "metadata": {
            "tags": []
          },
          "execution_count": 22
        }
      ]
    },
    {
      "cell_type": "markdown",
      "metadata": {
        "id": "Uc3krjVu4LW4"
      },
      "source": [
        "'S' appears the most. The missing data can be filled in with 'S'."
      ]
    },
    {
      "cell_type": "code",
      "metadata": {
        "id": "0AR1JeQM2HoH"
      },
      "source": [
        "### filling the missing value with mode\r\n",
        "train_data['Embarked'].fillna(train_data['Embarked'].mode()[0], inplace=True)"
      ],
      "execution_count": 23,
      "outputs": []
    },
    {
      "cell_type": "code",
      "metadata": {
        "id": "WoYita4AwtSc"
      },
      "source": [
        "### transforms the categocial data into numerical representation\n",
        "# Embarked => C: 0, Q: 1, S:2\n",
        "train_data['Embarked'] = pd.Categorical(train_data['Embarked'])\n",
        "train_data['Embarked'] = train_data['Embarked'].cat.codes"
      ],
      "execution_count": 24,
      "outputs": []
    },
    {
      "cell_type": "markdown",
      "metadata": {
        "id": "D4FYysK73ZAZ"
      },
      "source": [
        "#### 3.1.9 ? `Ticket` and `Cabin`\r\n",
        "\r\n",
        "Not sure how to handle these 2 for the time being... 🤔\r\n",
        "\r\n",
        "Will be dropping them later."
      ]
    },
    {
      "cell_type": "code",
      "metadata": {
        "colab": {
          "base_uri": "https://localhost:8080/"
        },
        "id": "XTgF0V7KOhbY",
        "outputId": "b4bb3e9e-87bc-4709-a2e4-92060efcb91e"
      },
      "source": [
        "train_data['Ticket'].value_counts()"
      ],
      "execution_count": 25,
      "outputs": [
        {
          "output_type": "execute_result",
          "data": {
            "text/plain": [
              "347082      7\n",
              "1601        7\n",
              "CA. 2343    7\n",
              "347088      6\n",
              "3101295     6\n",
              "           ..\n",
              "345779      1\n",
              "330909      1\n",
              "2700        1\n",
              "13214       1\n",
              "113510      1\n",
              "Name: Ticket, Length: 681, dtype: int64"
            ]
          },
          "metadata": {
            "tags": []
          },
          "execution_count": 25
        }
      ]
    },
    {
      "cell_type": "code",
      "metadata": {
        "colab": {
          "base_uri": "https://localhost:8080/"
        },
        "id": "tuu2GzTBOhTJ",
        "outputId": "9780c7b6-64a3-48b2-8f4e-b851fe4b689b"
      },
      "source": [
        "train_data['Cabin'].value_counts()"
      ],
      "execution_count": 26,
      "outputs": [
        {
          "output_type": "execute_result",
          "data": {
            "text/plain": [
              "G6             4\n",
              "C23 C25 C27    4\n",
              "B96 B98        4\n",
              "F2             3\n",
              "F33            3\n",
              "              ..\n",
              "D49            1\n",
              "C110           1\n",
              "C70            1\n",
              "C49            1\n",
              "A36            1\n",
              "Name: Cabin, Length: 147, dtype: int64"
            ]
          },
          "metadata": {
            "tags": []
          },
          "execution_count": 26
        }
      ]
    },
    {
      "cell_type": "markdown",
      "metadata": {
        "id": "1j5S6KLcPIZ5"
      },
      "source": [
        "Seems like it is possible to get which section the `Cabin` is located on the ship (section A~E?), however do note that there are over 70% of missing data present in this column. Future extension includes getting predicting the missing value or getting possible information from this."
      ]
    },
    {
      "cell_type": "markdown",
      "metadata": {
        "id": "5Q1W2Tg55PAU"
      },
      "source": [
        "#### 3.1.10 Final stage of cleaning"
      ]
    },
    {
      "cell_type": "markdown",
      "metadata": {
        "id": "cMMYy7N-4--f"
      },
      "source": [
        "'Age' and 'Fare' are normalized."
      ]
    },
    {
      "cell_type": "code",
      "metadata": {
        "id": "tol2Ax8EwtSc"
      },
      "source": [
        "attributes = ['Age', 'Fare']\n",
        "\n",
        "### normalizing the data \n",
        "scaler = MinMaxScaler()\n",
        "train_data[attributes] = scaler.fit_transform(train_data[attributes])"
      ],
      "execution_count": 27,
      "outputs": []
    },
    {
      "cell_type": "code",
      "metadata": {
        "scrolled": true,
        "id": "mDGZS7KVwtSc",
        "colab": {
          "base_uri": "https://localhost:8080/",
          "height": 419
        },
        "outputId": "ab1f951b-df3e-458b-ce2b-26cd568198dd"
      },
      "source": [
        "### dropping a few columns\n",
        "train_data = train_data.drop(['Name', 'Ticket', 'Cabin'], axis=1)\n",
        "train_data"
      ],
      "execution_count": 28,
      "outputs": [
        {
          "output_type": "execute_result",
          "data": {
            "text/html": [
              "<div>\n",
              "<style scoped>\n",
              "    .dataframe tbody tr th:only-of-type {\n",
              "        vertical-align: middle;\n",
              "    }\n",
              "\n",
              "    .dataframe tbody tr th {\n",
              "        vertical-align: top;\n",
              "    }\n",
              "\n",
              "    .dataframe thead th {\n",
              "        text-align: right;\n",
              "    }\n",
              "</style>\n",
              "<table border=\"1\" class=\"dataframe\">\n",
              "  <thead>\n",
              "    <tr style=\"text-align: right;\">\n",
              "      <th></th>\n",
              "      <th>PassengerId</th>\n",
              "      <th>Survived</th>\n",
              "      <th>Pclass</th>\n",
              "      <th>Sex</th>\n",
              "      <th>Age</th>\n",
              "      <th>SibSp</th>\n",
              "      <th>Parch</th>\n",
              "      <th>Fare</th>\n",
              "      <th>Embarked</th>\n",
              "      <th>Title</th>\n",
              "      <th>Family</th>\n",
              "    </tr>\n",
              "  </thead>\n",
              "  <tbody>\n",
              "    <tr>\n",
              "      <th>0</th>\n",
              "      <td>1</td>\n",
              "      <td>0</td>\n",
              "      <td>3</td>\n",
              "      <td>1</td>\n",
              "      <td>0.271174</td>\n",
              "      <td>1</td>\n",
              "      <td>0</td>\n",
              "      <td>0.014151</td>\n",
              "      <td>2</td>\n",
              "      <td>0</td>\n",
              "      <td>1</td>\n",
              "    </tr>\n",
              "    <tr>\n",
              "      <th>1</th>\n",
              "      <td>2</td>\n",
              "      <td>1</td>\n",
              "      <td>1</td>\n",
              "      <td>0</td>\n",
              "      <td>0.472229</td>\n",
              "      <td>1</td>\n",
              "      <td>0</td>\n",
              "      <td>0.139136</td>\n",
              "      <td>0</td>\n",
              "      <td>2</td>\n",
              "      <td>1</td>\n",
              "    </tr>\n",
              "    <tr>\n",
              "      <th>2</th>\n",
              "      <td>3</td>\n",
              "      <td>1</td>\n",
              "      <td>3</td>\n",
              "      <td>0</td>\n",
              "      <td>0.321438</td>\n",
              "      <td>0</td>\n",
              "      <td>0</td>\n",
              "      <td>0.015469</td>\n",
              "      <td>2</td>\n",
              "      <td>1</td>\n",
              "      <td>0</td>\n",
              "    </tr>\n",
              "    <tr>\n",
              "      <th>3</th>\n",
              "      <td>4</td>\n",
              "      <td>1</td>\n",
              "      <td>1</td>\n",
              "      <td>0</td>\n",
              "      <td>0.434531</td>\n",
              "      <td>1</td>\n",
              "      <td>0</td>\n",
              "      <td>0.103644</td>\n",
              "      <td>2</td>\n",
              "      <td>2</td>\n",
              "      <td>1</td>\n",
              "    </tr>\n",
              "    <tr>\n",
              "      <th>4</th>\n",
              "      <td>5</td>\n",
              "      <td>0</td>\n",
              "      <td>3</td>\n",
              "      <td>1</td>\n",
              "      <td>0.434531</td>\n",
              "      <td>0</td>\n",
              "      <td>0</td>\n",
              "      <td>0.015713</td>\n",
              "      <td>2</td>\n",
              "      <td>0</td>\n",
              "      <td>0</td>\n",
              "    </tr>\n",
              "    <tr>\n",
              "      <th>...</th>\n",
              "      <td>...</td>\n",
              "      <td>...</td>\n",
              "      <td>...</td>\n",
              "      <td>...</td>\n",
              "      <td>...</td>\n",
              "      <td>...</td>\n",
              "      <td>...</td>\n",
              "      <td>...</td>\n",
              "      <td>...</td>\n",
              "      <td>...</td>\n",
              "      <td>...</td>\n",
              "    </tr>\n",
              "    <tr>\n",
              "      <th>886</th>\n",
              "      <td>887</td>\n",
              "      <td>0</td>\n",
              "      <td>2</td>\n",
              "      <td>1</td>\n",
              "      <td>0.334004</td>\n",
              "      <td>0</td>\n",
              "      <td>0</td>\n",
              "      <td>0.025374</td>\n",
              "      <td>2</td>\n",
              "      <td>3</td>\n",
              "      <td>0</td>\n",
              "    </tr>\n",
              "    <tr>\n",
              "      <th>887</th>\n",
              "      <td>888</td>\n",
              "      <td>1</td>\n",
              "      <td>1</td>\n",
              "      <td>0</td>\n",
              "      <td>0.233476</td>\n",
              "      <td>0</td>\n",
              "      <td>0</td>\n",
              "      <td>0.058556</td>\n",
              "      <td>2</td>\n",
              "      <td>1</td>\n",
              "      <td>0</td>\n",
              "    </tr>\n",
              "    <tr>\n",
              "      <th>888</th>\n",
              "      <td>889</td>\n",
              "      <td>0</td>\n",
              "      <td>3</td>\n",
              "      <td>0</td>\n",
              "      <td>0.258608</td>\n",
              "      <td>1</td>\n",
              "      <td>2</td>\n",
              "      <td>0.045771</td>\n",
              "      <td>2</td>\n",
              "      <td>1</td>\n",
              "      <td>3</td>\n",
              "    </tr>\n",
              "    <tr>\n",
              "      <th>889</th>\n",
              "      <td>890</td>\n",
              "      <td>1</td>\n",
              "      <td>1</td>\n",
              "      <td>1</td>\n",
              "      <td>0.321438</td>\n",
              "      <td>0</td>\n",
              "      <td>0</td>\n",
              "      <td>0.058556</td>\n",
              "      <td>0</td>\n",
              "      <td>0</td>\n",
              "      <td>0</td>\n",
              "    </tr>\n",
              "    <tr>\n",
              "      <th>890</th>\n",
              "      <td>891</td>\n",
              "      <td>0</td>\n",
              "      <td>3</td>\n",
              "      <td>1</td>\n",
              "      <td>0.396833</td>\n",
              "      <td>0</td>\n",
              "      <td>0</td>\n",
              "      <td>0.015127</td>\n",
              "      <td>1</td>\n",
              "      <td>0</td>\n",
              "      <td>0</td>\n",
              "    </tr>\n",
              "  </tbody>\n",
              "</table>\n",
              "<p>891 rows × 11 columns</p>\n",
              "</div>"
            ],
            "text/plain": [
              "     PassengerId  Survived  Pclass  Sex  ...      Fare  Embarked  Title  Family\n",
              "0              1         0       3    1  ...  0.014151         2      0       1\n",
              "1              2         1       1    0  ...  0.139136         0      2       1\n",
              "2              3         1       3    0  ...  0.015469         2      1       0\n",
              "3              4         1       1    0  ...  0.103644         2      2       1\n",
              "4              5         0       3    1  ...  0.015713         2      0       0\n",
              "..           ...       ...     ...  ...  ...       ...       ...    ...     ...\n",
              "886          887         0       2    1  ...  0.025374         2      3       0\n",
              "887          888         1       1    0  ...  0.058556         2      1       0\n",
              "888          889         0       3    0  ...  0.045771         2      1       3\n",
              "889          890         1       1    1  ...  0.058556         0      0       0\n",
              "890          891         0       3    1  ...  0.015127         1      0       0\n",
              "\n",
              "[891 rows x 11 columns]"
            ]
          },
          "metadata": {
            "tags": []
          },
          "execution_count": 28
        }
      ]
    },
    {
      "cell_type": "code",
      "metadata": {
        "id": "q3YeI51CwtSd",
        "colab": {
          "base_uri": "https://localhost:8080/",
          "height": 359
        },
        "outputId": "de8691ad-e2a7-48ca-8fe4-ced8763aaf29"
      },
      "source": [
        "### correlation\n",
        "corr = train_data[['Survived', 'Title', 'Pclass', 'Sex', 'Age', 'SibSp', 'Parch', 'Family', 'Fare', 'Embarked']].corr()\n",
        "corr"
      ],
      "execution_count": 29,
      "outputs": [
        {
          "output_type": "execute_result",
          "data": {
            "text/html": [
              "<div>\n",
              "<style scoped>\n",
              "    .dataframe tbody tr th:only-of-type {\n",
              "        vertical-align: middle;\n",
              "    }\n",
              "\n",
              "    .dataframe tbody tr th {\n",
              "        vertical-align: top;\n",
              "    }\n",
              "\n",
              "    .dataframe thead th {\n",
              "        text-align: right;\n",
              "    }\n",
              "</style>\n",
              "<table border=\"1\" class=\"dataframe\">\n",
              "  <thead>\n",
              "    <tr style=\"text-align: right;\">\n",
              "      <th></th>\n",
              "      <th>Survived</th>\n",
              "      <th>Title</th>\n",
              "      <th>Pclass</th>\n",
              "      <th>Sex</th>\n",
              "      <th>Age</th>\n",
              "      <th>SibSp</th>\n",
              "      <th>Parch</th>\n",
              "      <th>Family</th>\n",
              "      <th>Fare</th>\n",
              "      <th>Embarked</th>\n",
              "    </tr>\n",
              "  </thead>\n",
              "  <tbody>\n",
              "    <tr>\n",
              "      <th>Survived</th>\n",
              "      <td>1.000000</td>\n",
              "      <td>0.444230</td>\n",
              "      <td>-0.338481</td>\n",
              "      <td>-0.543351</td>\n",
              "      <td>-0.076083</td>\n",
              "      <td>-0.035322</td>\n",
              "      <td>0.081629</td>\n",
              "      <td>0.016639</td>\n",
              "      <td>0.257307</td>\n",
              "      <td>-0.167675</td>\n",
              "    </tr>\n",
              "    <tr>\n",
              "      <th>Title</th>\n",
              "      <td>0.444230</td>\n",
              "      <td>1.000000</td>\n",
              "      <td>-0.163855</td>\n",
              "      <td>-0.556469</td>\n",
              "      <td>-0.156228</td>\n",
              "      <td>0.289054</td>\n",
              "      <td>0.343822</td>\n",
              "      <td>0.369327</td>\n",
              "      <td>0.146122</td>\n",
              "      <td>-0.071313</td>\n",
              "    </tr>\n",
              "    <tr>\n",
              "      <th>Pclass</th>\n",
              "      <td>-0.338481</td>\n",
              "      <td>-0.163855</td>\n",
              "      <td>1.000000</td>\n",
              "      <td>0.131900</td>\n",
              "      <td>-0.348490</td>\n",
              "      <td>0.083081</td>\n",
              "      <td>0.018443</td>\n",
              "      <td>0.065997</td>\n",
              "      <td>-0.549500</td>\n",
              "      <td>0.162098</td>\n",
              "    </tr>\n",
              "    <tr>\n",
              "      <th>Sex</th>\n",
              "      <td>-0.543351</td>\n",
              "      <td>-0.556469</td>\n",
              "      <td>0.131900</td>\n",
              "      <td>1.000000</td>\n",
              "      <td>0.104150</td>\n",
              "      <td>-0.114631</td>\n",
              "      <td>-0.245489</td>\n",
              "      <td>-0.200988</td>\n",
              "      <td>-0.182333</td>\n",
              "      <td>0.108262</td>\n",
              "    </tr>\n",
              "    <tr>\n",
              "      <th>Age</th>\n",
              "      <td>-0.076083</td>\n",
              "      <td>-0.156228</td>\n",
              "      <td>-0.348490</td>\n",
              "      <td>0.104150</td>\n",
              "      <td>1.000000</td>\n",
              "      <td>-0.260233</td>\n",
              "      <td>-0.185141</td>\n",
              "      <td>-0.270353</td>\n",
              "      <td>0.097720</td>\n",
              "      <td>-0.013455</td>\n",
              "    </tr>\n",
              "    <tr>\n",
              "      <th>SibSp</th>\n",
              "      <td>-0.035322</td>\n",
              "      <td>0.289054</td>\n",
              "      <td>0.083081</td>\n",
              "      <td>-0.114631</td>\n",
              "      <td>-0.260233</td>\n",
              "      <td>1.000000</td>\n",
              "      <td>0.414838</td>\n",
              "      <td>0.890712</td>\n",
              "      <td>0.159651</td>\n",
              "      <td>0.068230</td>\n",
              "    </tr>\n",
              "    <tr>\n",
              "      <th>Parch</th>\n",
              "      <td>0.081629</td>\n",
              "      <td>0.343822</td>\n",
              "      <td>0.018443</td>\n",
              "      <td>-0.245489</td>\n",
              "      <td>-0.185141</td>\n",
              "      <td>0.414838</td>\n",
              "      <td>1.000000</td>\n",
              "      <td>0.783111</td>\n",
              "      <td>0.216225</td>\n",
              "      <td>0.039798</td>\n",
              "    </tr>\n",
              "    <tr>\n",
              "      <th>Family</th>\n",
              "      <td>0.016639</td>\n",
              "      <td>0.369327</td>\n",
              "      <td>0.065997</td>\n",
              "      <td>-0.200988</td>\n",
              "      <td>-0.270353</td>\n",
              "      <td>0.890712</td>\n",
              "      <td>0.783111</td>\n",
              "      <td>1.000000</td>\n",
              "      <td>0.217138</td>\n",
              "      <td>0.066516</td>\n",
              "    </tr>\n",
              "    <tr>\n",
              "      <th>Fare</th>\n",
              "      <td>0.257307</td>\n",
              "      <td>0.146122</td>\n",
              "      <td>-0.549500</td>\n",
              "      <td>-0.182333</td>\n",
              "      <td>0.097720</td>\n",
              "      <td>0.159651</td>\n",
              "      <td>0.216225</td>\n",
              "      <td>0.217138</td>\n",
              "      <td>1.000000</td>\n",
              "      <td>-0.224719</td>\n",
              "    </tr>\n",
              "    <tr>\n",
              "      <th>Embarked</th>\n",
              "      <td>-0.167675</td>\n",
              "      <td>-0.071313</td>\n",
              "      <td>0.162098</td>\n",
              "      <td>0.108262</td>\n",
              "      <td>-0.013455</td>\n",
              "      <td>0.068230</td>\n",
              "      <td>0.039798</td>\n",
              "      <td>0.066516</td>\n",
              "      <td>-0.224719</td>\n",
              "      <td>1.000000</td>\n",
              "    </tr>\n",
              "  </tbody>\n",
              "</table>\n",
              "</div>"
            ],
            "text/plain": [
              "          Survived     Title    Pclass  ...    Family      Fare  Embarked\n",
              "Survived  1.000000  0.444230 -0.338481  ...  0.016639  0.257307 -0.167675\n",
              "Title     0.444230  1.000000 -0.163855  ...  0.369327  0.146122 -0.071313\n",
              "Pclass   -0.338481 -0.163855  1.000000  ...  0.065997 -0.549500  0.162098\n",
              "Sex      -0.543351 -0.556469  0.131900  ... -0.200988 -0.182333  0.108262\n",
              "Age      -0.076083 -0.156228 -0.348490  ... -0.270353  0.097720 -0.013455\n",
              "SibSp    -0.035322  0.289054  0.083081  ...  0.890712  0.159651  0.068230\n",
              "Parch     0.081629  0.343822  0.018443  ...  0.783111  0.216225  0.039798\n",
              "Family    0.016639  0.369327  0.065997  ...  1.000000  0.217138  0.066516\n",
              "Fare      0.257307  0.146122 -0.549500  ...  0.217138  1.000000 -0.224719\n",
              "Embarked -0.167675 -0.071313  0.162098  ...  0.066516 -0.224719  1.000000\n",
              "\n",
              "[10 rows x 10 columns]"
            ]
          },
          "metadata": {
            "tags": []
          },
          "execution_count": 29
        }
      ]
    },
    {
      "cell_type": "code",
      "metadata": {
        "id": "RDoPQ-kowtSd",
        "colab": {
          "base_uri": "https://localhost:8080/",
          "height": 327
        },
        "outputId": "23ec4bce-377d-4555-be9f-fb90558d36c0"
      },
      "source": [
        "sns.heatmap(corr, square=True)"
      ],
      "execution_count": 30,
      "outputs": [
        {
          "output_type": "execute_result",
          "data": {
            "text/plain": [
              "<matplotlib.axes._subplots.AxesSubplot at 0x7f8b674e6890>"
            ]
          },
          "metadata": {
            "tags": []
          },
          "execution_count": 30
        },
        {
          "output_type": "display_data",
          "data": {
            "image/png": "[encoded data removed]",
            "text/plain": [
              "<Figure size 432x288 with 2 Axes>"
            ]
          },
          "metadata": {
            "tags": [],
            "needs_background": "light"
          }
        }
      ]
    },
    {
      "cell_type": "markdown",
      "metadata": {
        "id": "Wux67ZKLwtSd"
      },
      "source": [
        "### 3.2 Cleaning test.csv"
      ]
    },
    {
      "cell_type": "code",
      "metadata": {
        "id": "H8CbhKjuwtSd",
        "colab": {
          "base_uri": "https://localhost:8080/"
        },
        "outputId": "71643bee-a00c-40da-dea7-43628bef68ea"
      },
      "source": [
        "test_data = raw_test_data.copy()\n",
        "test_data.isna().sum()"
      ],
      "execution_count": 31,
      "outputs": [
        {
          "output_type": "execute_result",
          "data": {
            "text/plain": [
              "PassengerId      0\n",
              "Pclass           0\n",
              "Name             0\n",
              "Sex              0\n",
              "Age             86\n",
              "SibSp            0\n",
              "Parch            0\n",
              "Ticket           0\n",
              "Fare             1\n",
              "Cabin          327\n",
              "Embarked         0\n",
              "dtype: int64"
            ]
          },
          "metadata": {
            "tags": []
          },
          "execution_count": 31
        }
      ]
    },
    {
      "cell_type": "markdown",
      "metadata": {
        "id": "ffOnOj_8wtSe"
      },
      "source": [
        "`Age`, `Fare` and `Cabin` contains null values.\n",
        "\n",
        "The percentage of missing value in `Fare` and `Age` are considered small (\\~0.23% and \\~20.57%), they are both filled in later. Similar to train.csv, `Cabin` has too many missing value (\\~78.23%), hence it will be dropped.\n",
        "\n",
        "The dataset is processed similarly to the train.csv from now on."
      ]
    },
    {
      "cell_type": "code",
      "metadata": {
        "colab": {
          "base_uri": "https://localhost:8080/"
        },
        "id": "oQ9TfOck773N",
        "outputId": "7cb4a401-8ffe-459d-a549-cee0b9fce648"
      },
      "source": [
        "### extracting the title of the passenger\r\n",
        "test_data['Title'] = test_data['Name'].str.extract(' ([A-Za-z]+)\\.', expand=False)\r\n",
        "test_data['Title'].value_counts()\r\n"
      ],
      "execution_count": 32,
      "outputs": [
        {
          "output_type": "execute_result",
          "data": {
            "text/plain": [
              "Mr        240\n",
              "Miss       78\n",
              "Mrs        72\n",
              "Master     21\n",
              "Col         2\n",
              "Rev         2\n",
              "Dona        1\n",
              "Ms          1\n",
              "Dr          1\n",
              "Name: Title, dtype: int64"
            ]
          },
          "metadata": {
            "tags": []
          },
          "execution_count": 32
        }
      ]
    },
    {
      "cell_type": "code",
      "metadata": {
        "id": "nd3jx5rowtSe",
        "colab": {
          "base_uri": "https://localhost:8080/",
          "height": 419
        },
        "outputId": "d9474588-af53-46c0-ffe2-a618ed8244ed"
      },
      "source": [
        "### mapping the titles\n",
        "title_mapping = {\"Mr\": 0, \"Miss\": 1, \"Mrs\": 2,\n",
        "                 \"Master\": 3, \"Col\": 3, \"Rev\": 3, \"Ms\": 1, \"Dr\": 3, \"Dona\": 3}\n",
        "test_data['Title'] = test_data['Title'].map(title_mapping)\n",
        "\n",
        "### transforms the categocial data into numerical representation\n",
        "# Sex => female: 0, male: 1\n",
        "test_data['Sex'] = pd.Categorical(test_data['Sex'])\n",
        "test_data['Sex'] = test_data['Sex'].cat.codes\n",
        "\n",
        "### filling in the missing data with median age of each title\n",
        "test_data['Age'].fillna(test_data.groupby('Title')['Age'].transform('median'), inplace=True)\n",
        "\n",
        "### summing the number of siblings/spouse and the number of parents/children\n",
        "test_data['Family'] = test_data['SibSp'] + test_data['Parch']\n",
        "\n",
        "### filling in the missing data with column mean\n",
        "test_data['Fare'].fillna(test_data['Fare'].mean(), inplace=True)\n",
        "\n",
        "### transforms the categocial data into numerical representation\n",
        "# Embarked => C: 0, Q: 1, S:2\n",
        "test_data['Embarked'] = pd.Categorical(test_data['Embarked'])\n",
        "test_data['Embarked'] = test_data['Embarked'].cat.codes\n",
        "\n",
        "### normalizing the data \n",
        "scaler = MinMaxScaler()\n",
        "test_data[attributes] = scaler.fit_transform(test_data[attributes])\n",
        "test_data\n",
        "\n",
        "### dropping a few columns\n",
        "test_data = test_data.drop(['Name', 'Ticket', 'Cabin'], axis=1)\n",
        "test_data\n"
      ],
      "execution_count": 33,
      "outputs": [
        {
          "output_type": "execute_result",
          "data": {
            "text/html": [
              "<div>\n",
              "<style scoped>\n",
              "    .dataframe tbody tr th:only-of-type {\n",
              "        vertical-align: middle;\n",
              "    }\n",
              "\n",
              "    .dataframe tbody tr th {\n",
              "        vertical-align: top;\n",
              "    }\n",
              "\n",
              "    .dataframe thead th {\n",
              "        text-align: right;\n",
              "    }\n",
              "</style>\n",
              "<table border=\"1\" class=\"dataframe\">\n",
              "  <thead>\n",
              "    <tr style=\"text-align: right;\">\n",
              "      <th></th>\n",
              "      <th>PassengerId</th>\n",
              "      <th>Pclass</th>\n",
              "      <th>Sex</th>\n",
              "      <th>Age</th>\n",
              "      <th>SibSp</th>\n",
              "      <th>Parch</th>\n",
              "      <th>Fare</th>\n",
              "      <th>Embarked</th>\n",
              "      <th>Title</th>\n",
              "      <th>Family</th>\n",
              "    </tr>\n",
              "  </thead>\n",
              "  <tbody>\n",
              "    <tr>\n",
              "      <th>0</th>\n",
              "      <td>892</td>\n",
              "      <td>3</td>\n",
              "      <td>1</td>\n",
              "      <td>0.452723</td>\n",
              "      <td>0</td>\n",
              "      <td>0</td>\n",
              "      <td>0.015282</td>\n",
              "      <td>1</td>\n",
              "      <td>0</td>\n",
              "      <td>0</td>\n",
              "    </tr>\n",
              "    <tr>\n",
              "      <th>1</th>\n",
              "      <td>893</td>\n",
              "      <td>3</td>\n",
              "      <td>0</td>\n",
              "      <td>0.617566</td>\n",
              "      <td>1</td>\n",
              "      <td>0</td>\n",
              "      <td>0.013663</td>\n",
              "      <td>2</td>\n",
              "      <td>2</td>\n",
              "      <td>1</td>\n",
              "    </tr>\n",
              "    <tr>\n",
              "      <th>2</th>\n",
              "      <td>894</td>\n",
              "      <td>2</td>\n",
              "      <td>1</td>\n",
              "      <td>0.815377</td>\n",
              "      <td>0</td>\n",
              "      <td>0</td>\n",
              "      <td>0.018909</td>\n",
              "      <td>1</td>\n",
              "      <td>0</td>\n",
              "      <td>0</td>\n",
              "    </tr>\n",
              "    <tr>\n",
              "      <th>3</th>\n",
              "      <td>895</td>\n",
              "      <td>3</td>\n",
              "      <td>1</td>\n",
              "      <td>0.353818</td>\n",
              "      <td>0</td>\n",
              "      <td>0</td>\n",
              "      <td>0.016908</td>\n",
              "      <td>2</td>\n",
              "      <td>0</td>\n",
              "      <td>0</td>\n",
              "    </tr>\n",
              "    <tr>\n",
              "      <th>4</th>\n",
              "      <td>896</td>\n",
              "      <td>3</td>\n",
              "      <td>0</td>\n",
              "      <td>0.287881</td>\n",
              "      <td>1</td>\n",
              "      <td>1</td>\n",
              "      <td>0.023984</td>\n",
              "      <td>2</td>\n",
              "      <td>2</td>\n",
              "      <td>2</td>\n",
              "    </tr>\n",
              "    <tr>\n",
              "      <th>...</th>\n",
              "      <td>...</td>\n",
              "      <td>...</td>\n",
              "      <td>...</td>\n",
              "      <td>...</td>\n",
              "      <td>...</td>\n",
              "      <td>...</td>\n",
              "      <td>...</td>\n",
              "      <td>...</td>\n",
              "      <td>...</td>\n",
              "      <td>...</td>\n",
              "    </tr>\n",
              "    <tr>\n",
              "      <th>413</th>\n",
              "      <td>1305</td>\n",
              "      <td>3</td>\n",
              "      <td>1</td>\n",
              "      <td>0.373599</td>\n",
              "      <td>0</td>\n",
              "      <td>0</td>\n",
              "      <td>0.015713</td>\n",
              "      <td>2</td>\n",
              "      <td>0</td>\n",
              "      <td>0</td>\n",
              "    </tr>\n",
              "    <tr>\n",
              "      <th>414</th>\n",
              "      <td>1306</td>\n",
              "      <td>1</td>\n",
              "      <td>0</td>\n",
              "      <td>0.512066</td>\n",
              "      <td>0</td>\n",
              "      <td>0</td>\n",
              "      <td>0.212559</td>\n",
              "      <td>0</td>\n",
              "      <td>3</td>\n",
              "      <td>0</td>\n",
              "    </tr>\n",
              "    <tr>\n",
              "      <th>415</th>\n",
              "      <td>1307</td>\n",
              "      <td>3</td>\n",
              "      <td>1</td>\n",
              "      <td>0.505473</td>\n",
              "      <td>0</td>\n",
              "      <td>0</td>\n",
              "      <td>0.014151</td>\n",
              "      <td>2</td>\n",
              "      <td>0</td>\n",
              "      <td>0</td>\n",
              "    </tr>\n",
              "    <tr>\n",
              "      <th>416</th>\n",
              "      <td>1308</td>\n",
              "      <td>3</td>\n",
              "      <td>1</td>\n",
              "      <td>0.373599</td>\n",
              "      <td>0</td>\n",
              "      <td>0</td>\n",
              "      <td>0.015713</td>\n",
              "      <td>2</td>\n",
              "      <td>0</td>\n",
              "      <td>0</td>\n",
              "    </tr>\n",
              "    <tr>\n",
              "      <th>417</th>\n",
              "      <td>1309</td>\n",
              "      <td>3</td>\n",
              "      <td>1</td>\n",
              "      <td>0.129632</td>\n",
              "      <td>1</td>\n",
              "      <td>1</td>\n",
              "      <td>0.043640</td>\n",
              "      <td>0</td>\n",
              "      <td>3</td>\n",
              "      <td>2</td>\n",
              "    </tr>\n",
              "  </tbody>\n",
              "</table>\n",
              "<p>418 rows × 10 columns</p>\n",
              "</div>"
            ],
            "text/plain": [
              "     PassengerId  Pclass  Sex       Age  ...      Fare  Embarked  Title  Family\n",
              "0            892       3    1  0.452723  ...  0.015282         1      0       0\n",
              "1            893       3    0  0.617566  ...  0.013663         2      2       1\n",
              "2            894       2    1  0.815377  ...  0.018909         1      0       0\n",
              "3            895       3    1  0.353818  ...  0.016908         2      0       0\n",
              "4            896       3    0  0.287881  ...  0.023984         2      2       2\n",
              "..           ...     ...  ...       ...  ...       ...       ...    ...     ...\n",
              "413         1305       3    1  0.373599  ...  0.015713         2      0       0\n",
              "414         1306       1    0  0.512066  ...  0.212559         0      3       0\n",
              "415         1307       3    1  0.505473  ...  0.014151         2      0       0\n",
              "416         1308       3    1  0.373599  ...  0.015713         2      0       0\n",
              "417         1309       3    1  0.129632  ...  0.043640         0      3       2\n",
              "\n",
              "[418 rows x 10 columns]"
            ]
          },
          "metadata": {
            "tags": []
          },
          "execution_count": 33
        }
      ]
    },
    {
      "cell_type": "markdown",
      "metadata": {
        "id": "MWk5tGz9wtSe"
      },
      "source": [
        "## 4. Building the Predictive Model\n",
        "\n"
      ]
    },
    {
      "cell_type": "markdown",
      "metadata": {
        "id": "7cvbCOtnxPQQ"
      },
      "source": [
        "### 4.1 Testing on a few predictive models\r\n",
        "\r\n",
        "Since the \"correct\" output of `Survived` is not given in test.csv, let's test a few models on the train data itself.\r\n",
        "\r\n",
        "The output of `Survived` has two possibilities: \r\n",
        "\r\n",
        "- 0: No\r\n",
        "- 1: Yes\r\n",
        "\r\n",
        "Therefore, a classification model is suitable to classify whether the passenger survived or not. The train dataset is split into 2 parts, a train and a test to test out the accuracy of different models. The model with the highest accuracy will be chosen to predict the data from test.csv.\r\n",
        "\r\n",
        "Here's a list of models that I will be testing on:\r\n",
        "\r\n",
        "1. Random Forest Classifier\r\n",
        "2. Decision Tree Classifier\r\n",
        "3. K-Nearest Neighbors (kNN) Classifier\r\n",
        "4. Multi-Layer Perceptron (MLP) Classifier.\r\n",
        "5. Support Vector Classifier (SVC)\r\n",
        "6. Logistic Regression\r\n",
        "7. XGBoost Classifier\r\n",
        "\r\n",
        "Let's have a look on the so-called cleaned data again."
      ]
    },
    {
      "cell_type": "code",
      "metadata": {
        "id": "4Mrv5RT5wtSf",
        "colab": {
          "base_uri": "https://localhost:8080/",
          "height": 419
        },
        "outputId": "5ac13d42-cce8-4f61-cac7-a3d357b946b6"
      },
      "source": [
        "train_data"
      ],
      "execution_count": 34,
      "outputs": [
        {
          "output_type": "execute_result",
          "data": {
            "text/html": [
              "<div>\n",
              "<style scoped>\n",
              "    .dataframe tbody tr th:only-of-type {\n",
              "        vertical-align: middle;\n",
              "    }\n",
              "\n",
              "    .dataframe tbody tr th {\n",
              "        vertical-align: top;\n",
              "    }\n",
              "\n",
              "    .dataframe thead th {\n",
              "        text-align: right;\n",
              "    }\n",
              "</style>\n",
              "<table border=\"1\" class=\"dataframe\">\n",
              "  <thead>\n",
              "    <tr style=\"text-align: right;\">\n",
              "      <th></th>\n",
              "      <th>PassengerId</th>\n",
              "      <th>Survived</th>\n",
              "      <th>Pclass</th>\n",
              "      <th>Sex</th>\n",
              "      <th>Age</th>\n",
              "      <th>SibSp</th>\n",
              "      <th>Parch</th>\n",
              "      <th>Fare</th>\n",
              "      <th>Embarked</th>\n",
              "      <th>Title</th>\n",
              "      <th>Family</th>\n",
              "    </tr>\n",
              "  </thead>\n",
              "  <tbody>\n",
              "    <tr>\n",
              "      <th>0</th>\n",
              "      <td>1</td>\n",
              "      <td>0</td>\n",
              "      <td>3</td>\n",
              "      <td>1</td>\n",
              "      <td>0.271174</td>\n",
              "      <td>1</td>\n",
              "      <td>0</td>\n",
              "      <td>0.014151</td>\n",
              "      <td>2</td>\n",
              "      <td>0</td>\n",
              "      <td>1</td>\n",
              "    </tr>\n",
              "    <tr>\n",
              "      <th>1</th>\n",
              "      <td>2</td>\n",
              "      <td>1</td>\n",
              "      <td>1</td>\n",
              "      <td>0</td>\n",
              "      <td>0.472229</td>\n",
              "      <td>1</td>\n",
              "      <td>0</td>\n",
              "      <td>0.139136</td>\n",
              "      <td>0</td>\n",
              "      <td>2</td>\n",
              "      <td>1</td>\n",
              "    </tr>\n",
              "    <tr>\n",
              "      <th>2</th>\n",
              "      <td>3</td>\n",
              "      <td>1</td>\n",
              "      <td>3</td>\n",
              "      <td>0</td>\n",
              "      <td>0.321438</td>\n",
              "      <td>0</td>\n",
              "      <td>0</td>\n",
              "      <td>0.015469</td>\n",
              "      <td>2</td>\n",
              "      <td>1</td>\n",
              "      <td>0</td>\n",
              "    </tr>\n",
              "    <tr>\n",
              "      <th>3</th>\n",
              "      <td>4</td>\n",
              "      <td>1</td>\n",
              "      <td>1</td>\n",
              "      <td>0</td>\n",
              "      <td>0.434531</td>\n",
              "      <td>1</td>\n",
              "      <td>0</td>\n",
              "      <td>0.103644</td>\n",
              "      <td>2</td>\n",
              "      <td>2</td>\n",
              "      <td>1</td>\n",
              "    </tr>\n",
              "    <tr>\n",
              "      <th>4</th>\n",
              "      <td>5</td>\n",
              "      <td>0</td>\n",
              "      <td>3</td>\n",
              "      <td>1</td>\n",
              "      <td>0.434531</td>\n",
              "      <td>0</td>\n",
              "      <td>0</td>\n",
              "      <td>0.015713</td>\n",
              "      <td>2</td>\n",
              "      <td>0</td>\n",
              "      <td>0</td>\n",
              "    </tr>\n",
              "    <tr>\n",
              "      <th>...</th>\n",
              "      <td>...</td>\n",
              "      <td>...</td>\n",
              "      <td>...</td>\n",
              "      <td>...</td>\n",
              "      <td>...</td>\n",
              "      <td>...</td>\n",
              "      <td>...</td>\n",
              "      <td>...</td>\n",
              "      <td>...</td>\n",
              "      <td>...</td>\n",
              "      <td>...</td>\n",
              "    </tr>\n",
              "    <tr>\n",
              "      <th>886</th>\n",
              "      <td>887</td>\n",
              "      <td>0</td>\n",
              "      <td>2</td>\n",
              "      <td>1</td>\n",
              "      <td>0.334004</td>\n",
              "      <td>0</td>\n",
              "      <td>0</td>\n",
              "      <td>0.025374</td>\n",
              "      <td>2</td>\n",
              "      <td>3</td>\n",
              "      <td>0</td>\n",
              "    </tr>\n",
              "    <tr>\n",
              "      <th>887</th>\n",
              "      <td>888</td>\n",
              "      <td>1</td>\n",
              "      <td>1</td>\n",
              "      <td>0</td>\n",
              "      <td>0.233476</td>\n",
              "      <td>0</td>\n",
              "      <td>0</td>\n",
              "      <td>0.058556</td>\n",
              "      <td>2</td>\n",
              "      <td>1</td>\n",
              "      <td>0</td>\n",
              "    </tr>\n",
              "    <tr>\n",
              "      <th>888</th>\n",
              "      <td>889</td>\n",
              "      <td>0</td>\n",
              "      <td>3</td>\n",
              "      <td>0</td>\n",
              "      <td>0.258608</td>\n",
              "      <td>1</td>\n",
              "      <td>2</td>\n",
              "      <td>0.045771</td>\n",
              "      <td>2</td>\n",
              "      <td>1</td>\n",
              "      <td>3</td>\n",
              "    </tr>\n",
              "    <tr>\n",
              "      <th>889</th>\n",
              "      <td>890</td>\n",
              "      <td>1</td>\n",
              "      <td>1</td>\n",
              "      <td>1</td>\n",
              "      <td>0.321438</td>\n",
              "      <td>0</td>\n",
              "      <td>0</td>\n",
              "      <td>0.058556</td>\n",
              "      <td>0</td>\n",
              "      <td>0</td>\n",
              "      <td>0</td>\n",
              "    </tr>\n",
              "    <tr>\n",
              "      <th>890</th>\n",
              "      <td>891</td>\n",
              "      <td>0</td>\n",
              "      <td>3</td>\n",
              "      <td>1</td>\n",
              "      <td>0.396833</td>\n",
              "      <td>0</td>\n",
              "      <td>0</td>\n",
              "      <td>0.015127</td>\n",
              "      <td>1</td>\n",
              "      <td>0</td>\n",
              "      <td>0</td>\n",
              "    </tr>\n",
              "  </tbody>\n",
              "</table>\n",
              "<p>891 rows × 11 columns</p>\n",
              "</div>"
            ],
            "text/plain": [
              "     PassengerId  Survived  Pclass  Sex  ...      Fare  Embarked  Title  Family\n",
              "0              1         0       3    1  ...  0.014151         2      0       1\n",
              "1              2         1       1    0  ...  0.139136         0      2       1\n",
              "2              3         1       3    0  ...  0.015469         2      1       0\n",
              "3              4         1       1    0  ...  0.103644         2      2       1\n",
              "4              5         0       3    1  ...  0.015713         2      0       0\n",
              "..           ...       ...     ...  ...  ...       ...       ...    ...     ...\n",
              "886          887         0       2    1  ...  0.025374         2      3       0\n",
              "887          888         1       1    0  ...  0.058556         2      1       0\n",
              "888          889         0       3    0  ...  0.045771         2      1       3\n",
              "889          890         1       1    1  ...  0.058556         0      0       0\n",
              "890          891         0       3    1  ...  0.015127         1      0       0\n",
              "\n",
              "[891 rows x 11 columns]"
            ]
          },
          "metadata": {
            "tags": []
          },
          "execution_count": 34
        }
      ]
    },
    {
      "cell_type": "markdown",
      "metadata": {
        "id": "CcWgP1LgzZb9"
      },
      "source": [
        "I will be using cross-validation too to cross-validate each sample.\r\n"
      ]
    },
    {
      "cell_type": "code",
      "metadata": {
        "id": "ItapQ2m5wtSf"
      },
      "source": [
        "features = ['Pclass', 'Sex', 'Age', 'Family', 'Fare', 'Embarked', 'Title']\n",
        "X = train_data[features].copy() \n",
        "y = train_data['Survived'].copy()  \n",
        "\n",
        "### splitting test size\n",
        "X_train, X_test, y_train, y_test = train_test_split(X, y, test_size=0.20, random_state=1)"
      ],
      "execution_count": 35,
      "outputs": []
    },
    {
      "cell_type": "markdown",
      "metadata": {
        "id": "C_uCUO7In4Oq"
      },
      "source": [
        "#### 4.1.1 Random Forest Classifier"
      ]
    },
    {
      "cell_type": "code",
      "metadata": {
        "id": "H2d9LQ9vwtSf"
      },
      "source": [
        "model1 = RandomForestClassifier(n_estimators=100, max_depth=5, random_state=1)\n",
        "model1.fit(X_train, y_train)\n",
        "predictionRFC = model1.predict(X_test)\n"
      ],
      "execution_count": 36,
      "outputs": []
    },
    {
      "cell_type": "code",
      "metadata": {
        "colab": {
          "base_uri": "https://localhost:8080/"
        },
        "id": "rVGiIZpbKJXk",
        "outputId": "a7d0b3ed-920a-427a-e9a9-b418fc9c315d"
      },
      "source": [
        "cv_model1 = cross_validate(model1, X, y, cv=5, return_estimator=True, return_train_score=True, verbose=2)"
      ],
      "execution_count": 37,
      "outputs": [
        {
          "output_type": "stream",
          "text": [
            "[Parallel(n_jobs=1)]: Using backend SequentialBackend with 1 concurrent workers.\n"
          ],
          "name": "stderr"
        },
        {
          "output_type": "stream",
          "text": [
            "[CV]  ................................................................\n",
            "[CV] ................................................. , total=   0.2s\n",
            "[CV]  ................................................................\n"
          ],
          "name": "stdout"
        },
        {
          "output_type": "stream",
          "text": [
            "[Parallel(n_jobs=1)]: Done   1 out of   1 | elapsed:    0.2s remaining:    0.0s\n"
          ],
          "name": "stderr"
        },
        {
          "output_type": "stream",
          "text": [
            "[CV] ................................................. , total=   0.2s\n",
            "[CV]  ................................................................\n",
            "[CV] ................................................. , total=   0.2s\n",
            "[CV]  ................................................................\n",
            "[CV] ................................................. , total=   0.2s\n",
            "[CV]  ................................................................\n",
            "[CV] ................................................. , total=   0.2s\n"
          ],
          "name": "stdout"
        },
        {
          "output_type": "stream",
          "text": [
            "[Parallel(n_jobs=1)]: Done   5 out of   5 | elapsed:    1.0s finished\n"
          ],
          "name": "stderr"
        }
      ]
    },
    {
      "cell_type": "markdown",
      "metadata": {
        "id": "TBDPMwotoKFT"
      },
      "source": [
        "#### 4.1.2 Decision Tree Classifier\r\n"
      ]
    },
    {
      "cell_type": "code",
      "metadata": {
        "id": "WvySXufPwtSf"
      },
      "source": [
        "model2 = DecisionTreeClassifier()\n",
        "model2.fit(X_train, y_train)\n",
        "predictionDTC = model2.predict(X_test)\n"
      ],
      "execution_count": 38,
      "outputs": []
    },
    {
      "cell_type": "code",
      "metadata": {
        "colab": {
          "base_uri": "https://localhost:8080/"
        },
        "id": "BUig9qYIKMBx",
        "outputId": "a762c0e9-27c5-41a5-fb8f-bfbef703067b"
      },
      "source": [
        "cv_model2 = cross_validate(model2, X, y, cv=5, return_estimator=True, return_train_score=True, verbose=2)"
      ],
      "execution_count": 39,
      "outputs": [
        {
          "output_type": "stream",
          "text": [
            "[CV]  ................................................................\n",
            "[CV] ................................................. , total=   0.0s\n",
            "[CV]  ................................................................\n",
            "[CV] ................................................. , total=   0.0s\n",
            "[CV]  ................................................................\n",
            "[CV] ................................................. , total=   0.0s\n",
            "[CV]  ................................................................\n",
            "[CV] ................................................. , total=   0.0s\n",
            "[CV]  ................................................................\n",
            "[CV] ................................................. , total=   0.0s\n"
          ],
          "name": "stdout"
        },
        {
          "output_type": "stream",
          "text": [
            "[Parallel(n_jobs=1)]: Using backend SequentialBackend with 1 concurrent workers.\n",
            "[Parallel(n_jobs=1)]: Done   1 out of   1 | elapsed:    0.0s remaining:    0.0s\n",
            "[Parallel(n_jobs=1)]: Done   5 out of   5 | elapsed:    0.0s finished\n"
          ],
          "name": "stderr"
        }
      ]
    },
    {
      "cell_type": "markdown",
      "metadata": {
        "id": "zfKyoEOln-BT"
      },
      "source": [
        "#### 4.1.3 K-Nearest Neighbors (KNN) Classifier"
      ]
    },
    {
      "cell_type": "code",
      "metadata": {
        "id": "AQXaBAxdwtSf"
      },
      "source": [
        "model3 = KNeighborsClassifier(n_neighbors=20)\n",
        "model3.fit(X_train, y_train)\n",
        "predictionKNN = model3.predict(X_test)\n"
      ],
      "execution_count": 40,
      "outputs": []
    },
    {
      "cell_type": "code",
      "metadata": {
        "colab": {
          "base_uri": "https://localhost:8080/"
        },
        "id": "rVha-xDDKOIT",
        "outputId": "b490fa00-ef2c-44ba-b08f-fad8062fb364"
      },
      "source": [
        "cv_model3 = cross_validate(model3, X, y, cv=5, return_estimator=True, return_train_score=True, verbose=2)"
      ],
      "execution_count": 41,
      "outputs": [
        {
          "output_type": "stream",
          "text": [
            "[Parallel(n_jobs=1)]: Using backend SequentialBackend with 1 concurrent workers.\n",
            "[Parallel(n_jobs=1)]: Done   1 out of   1 | elapsed:    0.1s remaining:    0.0s\n"
          ],
          "name": "stderr"
        },
        {
          "output_type": "stream",
          "text": [
            "[CV]  ................................................................\n",
            "[CV] ................................................. , total=   0.0s\n",
            "[CV]  ................................................................\n",
            "[CV] ................................................. , total=   0.0s\n",
            "[CV]  ................................................................\n",
            "[CV] ................................................. , total=   0.0s\n",
            "[CV]  ................................................................\n",
            "[CV] ................................................. , total=   0.0s\n",
            "[CV]  ................................................................\n",
            "[CV] ................................................. , total=   0.0s\n"
          ],
          "name": "stdout"
        },
        {
          "output_type": "stream",
          "text": [
            "[Parallel(n_jobs=1)]: Done   5 out of   5 | elapsed:    0.2s finished\n"
          ],
          "name": "stderr"
        }
      ]
    },
    {
      "cell_type": "markdown",
      "metadata": {
        "id": "R38tPi2koEJq"
      },
      "source": [
        "#### 4.1.4 Multi-Layer Perceptron (MLP) Classifier\r\n"
      ]
    },
    {
      "cell_type": "code",
      "metadata": {
        "id": "3sZP0GIMwtSf"
      },
      "source": [
        "model4 = MLPClassifier(hidden_layer_sizes =(4,5,3), max_iter=1000, random_state=1)\n",
        "model4.fit(X_train, y_train)\n",
        "predictionMLP = model4.predict(X_test)\n"
      ],
      "execution_count": 42,
      "outputs": []
    },
    {
      "cell_type": "code",
      "metadata": {
        "colab": {
          "base_uri": "https://localhost:8080/"
        },
        "id": "5JVHNXFUKQ-B",
        "outputId": "1e80cdbb-e971-43a2-8982-2d8b32831ea9"
      },
      "source": [
        "cv_model4 = cross_validate(model4, X, y, cv=5, return_estimator=True, return_train_score=True, verbose=2)"
      ],
      "execution_count": 43,
      "outputs": [
        {
          "output_type": "stream",
          "text": [
            "[Parallel(n_jobs=1)]: Using backend SequentialBackend with 1 concurrent workers.\n"
          ],
          "name": "stderr"
        },
        {
          "output_type": "stream",
          "text": [
            "[CV]  ................................................................\n",
            "[CV] ................................................. , total=   1.5s\n",
            "[CV]  ................................................................\n"
          ],
          "name": "stdout"
        },
        {
          "output_type": "stream",
          "text": [
            "[Parallel(n_jobs=1)]: Done   1 out of   1 | elapsed:    1.5s remaining:    0.0s\n"
          ],
          "name": "stderr"
        },
        {
          "output_type": "stream",
          "text": [
            "[CV] ................................................. , total=   1.2s\n",
            "[CV]  ................................................................\n",
            "[CV] ................................................. , total=   1.1s\n",
            "[CV]  ................................................................\n",
            "[CV] ................................................. , total=   1.4s\n",
            "[CV]  ................................................................\n",
            "[CV] ................................................. , total=   1.3s\n"
          ],
          "name": "stdout"
        },
        {
          "output_type": "stream",
          "text": [
            "[Parallel(n_jobs=1)]: Done   5 out of   5 | elapsed:    6.6s finished\n"
          ],
          "name": "stderr"
        }
      ]
    },
    {
      "cell_type": "markdown",
      "metadata": {
        "id": "-M5yKEjCoSP9"
      },
      "source": [
        "#### 4.1.5 Support Vector Classifier (SVC)"
      ]
    },
    {
      "cell_type": "code",
      "metadata": {
        "id": "8cKn58AGwtSg"
      },
      "source": [
        "model5 = SVC()\n",
        "model5.fit(X_train, y_train)\n",
        "predictionSVC = model5.predict(X_test)\n"
      ],
      "execution_count": 44,
      "outputs": []
    },
    {
      "cell_type": "code",
      "metadata": {
        "colab": {
          "base_uri": "https://localhost:8080/"
        },
        "id": "2FzzRdznKSuj",
        "outputId": "1287007b-1c13-4c31-e011-72d509a4b50e"
      },
      "source": [
        "cv_model5 = cross_validate(model5, X, y, cv=5, return_estimator=True, return_train_score=True, verbose=2)"
      ],
      "execution_count": 45,
      "outputs": [
        {
          "output_type": "stream",
          "text": [
            "[CV]  ................................................................\n",
            "[CV] ................................................. , total=   0.0s\n",
            "[CV]  ................................................................\n",
            "[CV] ................................................. , total=   0.0s\n",
            "[CV]  ................................................................\n",
            "[CV] ................................................. , total=   0.0s\n",
            "[CV]  ................................................................\n",
            "[CV] ................................................. , total=   0.0s\n",
            "[CV]  ................................................................\n",
            "[CV] ................................................. , total=   0.0s\n"
          ],
          "name": "stdout"
        },
        {
          "output_type": "stream",
          "text": [
            "[Parallel(n_jobs=1)]: Using backend SequentialBackend with 1 concurrent workers.\n",
            "[Parallel(n_jobs=1)]: Done   1 out of   1 | elapsed:    0.0s remaining:    0.0s\n",
            "[Parallel(n_jobs=1)]: Done   5 out of   5 | elapsed:    0.1s finished\n"
          ],
          "name": "stderr"
        }
      ]
    },
    {
      "cell_type": "markdown",
      "metadata": {
        "id": "P0P2dVjAyHrk"
      },
      "source": [
        "#### 4.1.6 Logistic Regression\r\n",
        "\r\n",
        "Logistic Regression is derived from regression models, but due to the nature of using a logistic function, it functions like a classifier, giving almost binary decisions (close to 0 or 1) to predictions. So, this makes it more a classifier than a regressor.\r\n",
        "\r\n",
        "Since we are predicting whether the passenger survived or not (0 or 1), we may use linear regression in this case."
      ]
    },
    {
      "cell_type": "code",
      "metadata": {
        "id": "_NDfOCUayF3y"
      },
      "source": [
        "model6 = LogisticRegression()\r\n",
        "model6.fit(X_train, y_train)\r\n",
        "predictionLR = model6.predict(X_test)\r\n"
      ],
      "execution_count": 46,
      "outputs": []
    },
    {
      "cell_type": "code",
      "metadata": {
        "colab": {
          "base_uri": "https://localhost:8080/"
        },
        "id": "6uvmioEeKVE_",
        "outputId": "6b4fa840-19f8-4699-812b-fb4139359f9d"
      },
      "source": [
        "cv_model6 = cross_validate(model6, X, y, cv=5, return_estimator=True, return_train_score=True, verbose=2)"
      ],
      "execution_count": 47,
      "outputs": [
        {
          "output_type": "stream",
          "text": [
            "[Parallel(n_jobs=1)]: Using backend SequentialBackend with 1 concurrent workers.\n"
          ],
          "name": "stderr"
        },
        {
          "output_type": "stream",
          "text": [
            "[CV]  ................................................................\n",
            "[CV] ................................................. , total=   0.0s\n",
            "[CV]  ................................................................\n",
            "[CV] ................................................. , total=   0.0s\n",
            "[CV]  ................................................................\n",
            "[CV] ................................................. , total=   0.0s\n",
            "[CV]  ................................................................\n",
            "[CV] ................................................. , total=   0.0s\n",
            "[CV]  ................................................................\n",
            "[CV] ................................................. , total=   0.0s\n"
          ],
          "name": "stdout"
        },
        {
          "output_type": "stream",
          "text": [
            "[Parallel(n_jobs=1)]: Done   1 out of   1 | elapsed:    0.0s remaining:    0.0s\n",
            "[Parallel(n_jobs=1)]: Done   5 out of   5 | elapsed:    0.1s finished\n"
          ],
          "name": "stderr"
        }
      ]
    },
    {
      "cell_type": "markdown",
      "metadata": {
        "id": "pebMIqORFXFF"
      },
      "source": [
        "#### 4.1.7 XGBoost Classifier\r\n",
        "\r\n",
        "XGBoost stands for e**X**treme **G**radient **B**oosting. It is an algorithm that has recently been dominating applied machine learning and Kaggle competitions for structured or tabular data."
      ]
    },
    {
      "cell_type": "code",
      "metadata": {
        "id": "JxQYnS-dFWjt"
      },
      "source": [
        "model7 = XGBClassifier()\r\n",
        "model7.fit(X_train, y_train)\r\n",
        "predictionXGB = model7.predict(X_test)\r\n"
      ],
      "execution_count": 48,
      "outputs": []
    },
    {
      "cell_type": "code",
      "metadata": {
        "colab": {
          "base_uri": "https://localhost:8080/"
        },
        "id": "BlGFTaEMKYyi",
        "outputId": "f238b3f9-75d7-4572-96cc-e040c08c6424"
      },
      "source": [
        "cv_model7 = cross_validate(model7, X, y, cv=5, return_estimator=True, return_train_score=True, verbose=2)"
      ],
      "execution_count": 49,
      "outputs": [
        {
          "output_type": "stream",
          "text": [
            "[Parallel(n_jobs=1)]: Using backend SequentialBackend with 1 concurrent workers.\n"
          ],
          "name": "stderr"
        },
        {
          "output_type": "stream",
          "text": [
            "[CV]  ................................................................\n"
          ],
          "name": "stdout"
        },
        {
          "output_type": "stream",
          "text": [
            "[Parallel(n_jobs=1)]: Done   1 out of   1 | elapsed:    0.1s remaining:    0.0s\n"
          ],
          "name": "stderr"
        },
        {
          "output_type": "stream",
          "text": [
            "[CV] ................................................. , total=   0.0s\n",
            "[CV]  ................................................................\n",
            "[CV] ................................................. , total=   0.0s\n",
            "[CV]  ................................................................\n",
            "[CV] ................................................. , total=   0.0s\n",
            "[CV]  ................................................................\n",
            "[CV] ................................................. , total=   0.0s\n",
            "[CV]  ................................................................\n",
            "[CV] ................................................. , total=   0.1s\n"
          ],
          "name": "stdout"
        },
        {
          "output_type": "stream",
          "text": [
            "[Parallel(n_jobs=1)]: Done   5 out of   5 | elapsed:    0.3s finished\n"
          ],
          "name": "stderr"
        }
      ]
    },
    {
      "cell_type": "markdown",
      "metadata": {
        "id": "vg04-5V7QuST"
      },
      "source": [
        "XGBoost dominates structured or tabular datasets on classification and regression predictive modeling problems."
      ]
    },
    {
      "cell_type": "markdown",
      "metadata": {
        "id": "WYlMqgQpoYVQ"
      },
      "source": [
        "### 4.2 Evaluation"
      ]
    },
    {
      "cell_type": "markdown",
      "metadata": {
        "id": "SpubG-Hv9yhX"
      },
      "source": [
        "#### 4.2.1 Accuracy"
      ]
    },
    {
      "cell_type": "code",
      "metadata": {
        "colab": {
          "base_uri": "https://localhost:8080/"
        },
        "id": "_cDkClZz9xqW",
        "outputId": "1566a19a-9255-4cc3-e61e-b2e08e6bd712"
      },
      "source": [
        "### accuracy\r\n",
        "print(\"The accuracy of:\")\r\n",
        "print(\"Random Forest Classifier \\t\\t\", accuracy_score(y_test, predictionRFC))\r\n",
        "print(\"Decision Tree Classifier \\t\\t\", accuracy_score(y_test, predictionDTC))\r\n",
        "print(\"K-Nearest Neighbors Classifier \\t\\t\", accuracy_score(y_test, predictionKNN))\r\n",
        "print(\"Multi-Layer Perceptron Classifier \\t\", accuracy_score(y_test, predictionMLP))\r\n",
        "print(\"Support Vector Classifier\\t\\t\", accuracy_score(y_test, predictionSVC))\r\n",
        "print(\"Linear Regression \\t\\t\\t\", accuracy_score(y_test, predictionLR))\r\n",
        "print(\"XGBoost \\t\\t\\t\\t\", accuracy_score(y_test, predictionXGB))"
      ],
      "execution_count": 50,
      "outputs": [
        {
          "output_type": "stream",
          "text": [
            "The accuracy of:\n",
            "Random Forest Classifier \t\t 0.7988826815642458\n",
            "Decision Tree Classifier \t\t 0.7318435754189944\n",
            "K-Nearest Neighbors Classifier \t\t 0.770949720670391\n",
            "Multi-Layer Perceptron Classifier \t 0.8100558659217877\n",
            "Support Vector Classifier\t\t 0.7988826815642458\n",
            "Linear Regression \t\t\t 0.7988826815642458\n",
            "XGBoost \t\t\t\t 0.7877094972067039\n"
          ],
          "name": "stdout"
        }
      ]
    },
    {
      "cell_type": "markdown",
      "metadata": {
        "id": "eUtR3ukawtSg"
      },
      "source": [
        "Multi-Layer Perceptron Classifier performs the best in accuracy. However, this is only applied to `random_state=1` while splitting the train data."
      ]
    },
    {
      "cell_type": "markdown",
      "metadata": {
        "id": "QCyLHIeV94A9"
      },
      "source": [
        "#### 4.2.2 Test Score\r\n",
        "\r\n",
        "To prevent bias while splitting the data, let's evaluate the test score of cross-validation of each predictive model."
      ]
    },
    {
      "cell_type": "code",
      "metadata": {
        "id": "PfHKiZLKwtSg",
        "colab": {
          "base_uri": "https://localhost:8080/"
        },
        "outputId": "55906c6a-c836-4156-d0f0-53b40ecde83b"
      },
      "source": [
        "### test score\n",
        "print(\"The test score of:\")\n",
        "print(\"Random Forest Classifier \\t\\t\", cv_model1['test_score'].mean())\n",
        "print(\"Decision Tree Classifier \\t\\t\", cv_model2['test_score'].mean())\n",
        "print(\"K-Nearest Neighbors Classifier \\t\\t\", cv_model3['test_score'].mean())\n",
        "print(\"Multi-Layer Perceptron Classifier \\t\", cv_model4['test_score'].mean())\n",
        "print(\"Support Vector Classifier \\t\\t\", cv_model5['test_score'].mean())\n",
        "print(\"Linear Regression \\t\\t\\t\", cv_model6['test_score'].mean())\n",
        "print(\"XGBoost \\t\\t\\t\\t\", cv_model7['test_score'].mean())"
      ],
      "execution_count": 51,
      "outputs": [
        {
          "output_type": "stream",
          "text": [
            "The test score of:\n",
            "Random Forest Classifier \t\t 0.824913690289373\n",
            "Decision Tree Classifier \t\t 0.7598141987320319\n",
            "K-Nearest Neighbors Classifier \t\t 0.8260310087251271\n",
            "Multi-Layer Perceptron Classifier \t 0.8237900947837549\n",
            "Support Vector Classifier \t\t 0.8293829640323898\n",
            "Linear Regression \t\t\t 0.8181846713953927\n",
            "XGBoost \t\t\t\t 0.8440148138848785\n"
          ],
          "name": "stdout"
        }
      ]
    },
    {
      "cell_type": "markdown",
      "metadata": {
        "id": "7YzEcm3XJ3h7"
      },
      "source": [
        "XGBoost seems to perform the best."
      ]
    },
    {
      "cell_type": "markdown",
      "metadata": {
        "id": "m-7c6-lXwtSg"
      },
      "source": [
        "### 4.3 Building the Model"
      ]
    },
    {
      "cell_type": "code",
      "metadata": {
        "id": "7-UCqcN-wtSg"
      },
      "source": [
        "model = MLPClassifier(hidden_layer_sizes =(4,5,3), max_iter=1000, random_state=1)\n",
        "model.fit(X, y)\n",
        "\n",
        "X_test_data = test_data[features]\n",
        "predictions = model.predict(X_test_data)"
      ],
      "execution_count": 52,
      "outputs": []
    },
    {
      "cell_type": "markdown",
      "metadata": {
        "id": "WfPEYkkVxgJk"
      },
      "source": [
        "Output the predictions to a csv file for evaluation on Kaggle."
      ]
    },
    {
      "cell_type": "code",
      "metadata": {
        "id": "tAbVxKwGwtSg",
        "colab": {
          "base_uri": "https://localhost:8080/"
        },
        "outputId": "726a4138-d77e-4dcc-e29b-1d36fe85895a"
      },
      "source": [
        "output = pd.DataFrame({'PassengerId': test_data.PassengerId, 'Survived': predictions})\n",
        "output.to_csv(path + 'my_submission.csv', index=False)\n",
        "print(\"Your submission was successfully saved!\")"
      ],
      "execution_count": 53,
      "outputs": [
        {
          "output_type": "stream",
          "text": [
            "Your submission was successfully saved!\n"
          ],
          "name": "stdout"
        }
      ]
    },
    {
      "cell_type": "markdown",
      "metadata": {
        "id": "DqbIpf3y_juc"
      },
      "source": [
        "## Afterword\r\n",
        "\r\n",
        "After building the models, all the above models are used to predict the `Survived` column in test.csv. Here is a sorted list of score that I receive from Kaggle:\r\n",
        "\r\n",
        "|  Algorithm      | Score |\r\n",
        "| :---            | :---: |\r\n",
        "| Random Forest Classifier          | 0.78468 | \r\n",
        "| Multi-Layer Perceptron Classifier | 0.78468 |\r\n",
        "| Logistic Regression               | 0.78229 |\r\n",
        "| Support Vector Classifier         | 0.77272 |\r\n",
        "| K-Nearest Neighbors Classifier    | 0.76555 |\r\n",
        "| XGBoost Classifier                | 0.76315 |\r\n",
        "| Decision Tree Classifier          | 0.71770 |\r\n",
        "\r\n",
        "The score is a categorization accuracy of predicting whether the passenger on Titanic survived or not, with the highest score being 1 and the lowest being 0. In conclusion, the Random Forest Classifier and Multi-Layer Percpetron Classifer perform the best among other classification algorithm in this case.\r\n",
        "\r\n",
        "Future extend of this work includes fine-tuning the predictive model in terms of data cleaning and feature selection.\r\n"
      ]
    },
    {
      "cell_type": "markdown",
      "metadata": {
        "id": "q5HDJNc1s9lZ"
      },
      "source": [
        "## Reference\r\n",
        "\r\n",
        "1. Rençberoğlu, E. (2019, April 1)  [Fundamental Techniques of Feature Engineering for Machine Learning](https://towardsdatascience.com/feature-engineering-for-machine-learning-3a5e293a5114)\r\n",
        "2. Brownlee, J. (2021, Febuary 17). [A Gentle Introduction to XGBoost for Applied Machine Learning](https://machinelearningmastery.com/gentle-introduction-xgboost-applied-machine-learning/)\r\n",
        "\r\n"
      ]
    }
  ]
}